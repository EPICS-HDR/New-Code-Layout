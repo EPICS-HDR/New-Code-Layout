{
  "cells": [
    {
      "cell_type": "code",
      "execution_count": 3,
      "metadata": {
        "tags": [
          "hide-input",
          "hide-output"
        ],
        "id": "MOqeZi8NG12R"
      },
      "outputs": [],
      "source": [
        "import numpy as np\n",
        "import matplotlib.pyplot as plt\n",
        "%matplotlib inline\n",
        "import matplotlib_inline\n",
        "matplotlib_inline.backend_inline.set_matplotlib_formats('svg')\n",
        "import seaborn as sns\n",
        "sns.set_context(\"paper\")\n",
        "sns.set_style(\"ticks\");"
      ]
    },
    {
      "cell_type": "markdown",
      "metadata": {
        "id": "UKjQfykQG12T"
      },
      "source": [
        "# ME 270 - Activity 1 - Shear Force and Bending Moment Diagrams\n",
        "\n",
        "In this activity, we will provide a basic introduction to Python programming motivated by the goal of plotting shear-force and bending-moment diagrams.\n",
        "\n",
        "We see here below a beam with an applied load and an applied moment at some arbitrary points.\n",
        "\n",
        "<figure>\n",
        " <img src=\"https://raw.githubusercontent.com/ebilionis/core-me-data-science-activities-public/refs/heads/main/images/Statics1_beam.png\" width=\"700\" height=\"300\">\n",
        "</figure>\n",
        "\n",
        "We will calculate the shear force and bending moment at different points along the beam and plot the diagrams.\n"
      ]
    },
    {
      "cell_type": "markdown",
      "metadata": {
        "id": "JLeNgH6jG12T"
      },
      "source": [
        "### Question 1 - Basic Python Syntax\n",
        "\n",
        "Let's first review some basic Python syntax, starting with variable assignment. It is always good practice to assign variables and not hard-code values in your calculations. It is also good practice to use meaningful variable names and comments to explain the purpose of the variable and the units of the value."
      ]
    },
    {
      "cell_type": "code",
      "execution_count": 2,
      "metadata": {
        "id": "O8wzScKxG12U"
      },
      "outputs": [],
      "source": [
        "# Dimension of beam AD\n",
        "d_ab = 6 # m\n",
        "d_bc = 3.0 # m\n",
        "d_cd = 6.0 # m"
      ]
    },
    {
      "cell_type": "markdown",
      "metadata": {
        "id": "0lG6a7liG12U"
      },
      "source": [
        "Exploring variable types and operations is also important. Types are implicit in Python, but you can always check the type of a variable using the `type()` function."
      ]
    },
    {
      "cell_type": "code",
      "execution_count": 3,
      "metadata": {
        "id": "GTH52KoeG12U",
        "outputId": "1aa522a7-d367-4dd2-84e8-c529661018b8",
        "colab": {
          "base_uri": "https://localhost:8080/"
        }
      },
      "outputs": [
        {
          "output_type": "execute_result",
          "data": {
            "text/plain": [
              "int"
            ]
          },
          "metadata": {},
          "execution_count": 3
        }
      ],
      "source": [
        "type(d_ab)"
      ]
    },
    {
      "cell_type": "code",
      "execution_count": 4,
      "metadata": {
        "id": "muk28nRBG12V",
        "outputId": "9395027e-27c6-4cf1-eb40-d1d16ced3b2b",
        "colab": {
          "base_uri": "https://localhost:8080/"
        }
      },
      "outputs": [
        {
          "output_type": "execute_result",
          "data": {
            "text/plain": [
              "float"
            ]
          },
          "metadata": {},
          "execution_count": 4
        }
      ],
      "source": [
        "type(d_bc)"
      ]
    },
    {
      "cell_type": "code",
      "execution_count": 5,
      "metadata": {
        "id": "VpecXThYG12V",
        "outputId": "03f85b9c-d277-43e4-bba0-1c507517f2d6",
        "colab": {
          "base_uri": "https://localhost:8080/"
        }
      },
      "outputs": [
        {
          "output_type": "execute_result",
          "data": {
            "text/plain": [
              "float"
            ]
          },
          "metadata": {},
          "execution_count": 5
        }
      ],
      "source": [
        "type(d_cd)"
      ]
    },
    {
      "cell_type": "markdown",
      "metadata": {
        "id": "ZaxzZzjkG12V"
      },
      "source": [
        "Do you see why `d_ab` is an integer and `d_cd` is a float? When we assigned the value of `d_ab` we use did not use a decimal point, so Python interprets it as an integer. When we assigned the value of `d_cd` we used a decimal point, so Python interprets it as a float. We can also convert between types using the `int()` and `float()` functions."
      ]
    },
    {
      "cell_type": "code",
      "execution_count": 6,
      "metadata": {
        "id": "AYnmGJoAG12W",
        "outputId": "9b54390f-33e8-410b-a1d8-f3fe6f876c35",
        "colab": {
          "base_uri": "https://localhost:8080/"
        }
      },
      "outputs": [
        {
          "output_type": "execute_result",
          "data": {
            "text/plain": [
              "int"
            ]
          },
          "metadata": {},
          "execution_count": 6
        }
      ],
      "source": [
        "d_cd = int(d_cd)\n",
        "type(d_cd)"
      ]
    },
    {
      "cell_type": "markdown",
      "metadata": {
        "id": "kepJnVPnG12W"
      },
      "source": [
        "Understanding the types of variables is important because it determines how they can be used in calculations. Let's add up our three segment lengths to find the total length of the beam."
      ]
    },
    {
      "cell_type": "code",
      "execution_count": 7,
      "metadata": {
        "id": "BA5BvcEDG12W",
        "outputId": "a815dbcf-a09e-4486-c2ed-7defc292567d",
        "colab": {
          "base_uri": "https://localhost:8080/"
        }
      },
      "outputs": [
        {
          "output_type": "execute_result",
          "data": {
            "text/plain": [
              "float"
            ]
          },
          "metadata": {},
          "execution_count": 7
        }
      ],
      "source": [
        "L = d_ab + d_bc + d_cd\n",
        "type(L)"
      ]
    },
    {
      "cell_type": "markdown",
      "metadata": {
        "id": "lNeriMCNG12W"
      },
      "source": [
        "So what is happening here is that the integer `d_ab` is being added to the float `d_cd` and the result is a float. This is because Python will always convert the integer to a float when adding it to a float.\n",
        "\n",
        "Other operations like subtraction, multiplication, division, and exponentiation work similarly. Let me show you the python syntax for these operations."
      ]
    },
    {
      "cell_type": "code",
      "execution_count": 8,
      "metadata": {
        "id": "l0tTW_tMG12W",
        "outputId": "eca064ac-3063-4653-f959-2c3bac337535",
        "colab": {
          "base_uri": "https://localhost:8080/"
        }
      },
      "outputs": [
        {
          "output_type": "execute_result",
          "data": {
            "text/plain": [
              "3.0"
            ]
          },
          "metadata": {},
          "execution_count": 8
        }
      ],
      "source": [
        "x = 5.0 - 2\n",
        "x"
      ]
    },
    {
      "cell_type": "code",
      "execution_count": 9,
      "metadata": {
        "id": "oNP59WB2G12W",
        "outputId": "1e49cad7-c5bb-404c-e32c-c3f1b9865a5c",
        "colab": {
          "base_uri": "https://localhost:8080/"
        }
      },
      "outputs": [
        {
          "output_type": "execute_result",
          "data": {
            "text/plain": [
              "6.0"
            ]
          },
          "metadata": {},
          "execution_count": 9
        }
      ],
      "source": [
        "y = 2 * 3.0\n",
        "y"
      ]
    },
    {
      "cell_type": "code",
      "execution_count": 10,
      "metadata": {
        "id": "xo9bQQAFG12W",
        "outputId": "237e674f-a862-484a-ee96-9267ca9290a4",
        "colab": {
          "base_uri": "https://localhost:8080/"
        }
      },
      "outputs": [
        {
          "output_type": "execute_result",
          "data": {
            "text/plain": [
              "2.5"
            ]
          },
          "metadata": {},
          "execution_count": 10
        }
      ],
      "source": [
        "z = 5.0 / 2\n",
        "z"
      ]
    },
    {
      "cell_type": "markdown",
      "metadata": {
        "id": "OYBogSQLG12W"
      },
      "source": [
        "Note that the `**` operator is used for exponentiation in Python. Not the `^` operator as in some other programming languages. The `^` operator is used for bitwise XOR in Python."
      ]
    },
    {
      "cell_type": "code",
      "execution_count": 11,
      "metadata": {
        "id": "AfOqXWmoG12X",
        "outputId": "165c1ef7-1295-48bc-8521-3c7ba83eb552",
        "colab": {
          "base_uri": "https://localhost:8080/"
        }
      },
      "outputs": [
        {
          "output_type": "execute_result",
          "data": {
            "text/plain": [
              "8.0"
            ]
          },
          "metadata": {},
          "execution_count": 11
        }
      ],
      "source": [
        "a = 2. ** 3\n",
        "a"
      ]
    },
    {
      "cell_type": "markdown",
      "metadata": {
        "id": "TkLUuhpEG12X"
      },
      "source": [
        "Let's use some of the operations that we learned to do some calculations about our beam. Let's start with a moment calculation. We know that in equilibrium, the sum of the moments about any point must be zero. Let's calculate the moment about point A.\n",
        "\n",
        "$$\n",
        "\\sum M = 0\n",
        "$$\n",
        "\n",
        "$$\n",
        "\\sum M = M_c - (F_b)(d_{ab}) + (B_y)(L)\n",
        "$$\n",
        "\n",
        "Where we have some known applied moment $M_c$, a known applied force $F_b$, and we can calculate the reaction force $B_y$.\n",
        "\n",
        "Let's rearrange for $B_y$\n",
        "\n",
        "$$\n",
        "B_y = \\frac{F_b d_{ab} - M_c}{L}\n",
        "$$\n",
        "\n",
        "Let me assign some values to these variables and calculate the reaction force $B_y$."
      ]
    },
    {
      "cell_type": "code",
      "execution_count": 2,
      "metadata": {
        "id": "weTD5iLcG12X",
        "outputId": "875f2e04-c60b-4e5e-af71-0fb0f33f9af0",
        "colab": {
          "base_uri": "https://localhost:8080/",
          "height": 193
        }
      },
      "outputs": [
        {
          "output_type": "error",
          "ename": "NameError",
          "evalue": "name 'd_ab' is not defined",
          "traceback": [
            "\u001b[0;31m---------------------------------------------------------------------------\u001b[0m",
            "\u001b[0;31mNameError\u001b[0m                                 Traceback (most recent call last)",
            "\u001b[0;32m<ipython-input-2-4bf756d4e4e4>\u001b[0m in \u001b[0;36m<cell line: 0>\u001b[0;34m()\u001b[0m\n\u001b[1;32m      6\u001b[0m \u001b[0;34m\u001b[0m\u001b[0m\n\u001b[1;32m      7\u001b[0m \u001b[0;31m# Solve for the reaction force By\u001b[0m\u001b[0;34m\u001b[0m\u001b[0;34m\u001b[0m\u001b[0m\n\u001b[0;32m----> 8\u001b[0;31m \u001b[0mB_y\u001b[0m \u001b[0;34m=\u001b[0m \u001b[0;34m(\u001b[0m\u001b[0mF_b\u001b[0m \u001b[0;34m*\u001b[0m \u001b[0md_ab\u001b[0m \u001b[0;34m-\u001b[0m \u001b[0mM_c\u001b[0m\u001b[0;34m)\u001b[0m \u001b[0;34m/\u001b[0m \u001b[0mL\u001b[0m\u001b[0;34m\u001b[0m\u001b[0;34m\u001b[0m\u001b[0m\n\u001b[0m\u001b[1;32m      9\u001b[0m \u001b[0mB_y\u001b[0m\u001b[0;34m\u001b[0m\u001b[0;34m\u001b[0m\u001b[0m\n",
            "\u001b[0;31mNameError\u001b[0m: name 'd_ab' is not defined"
          ]
        }
      ],
      "source": [
        "# Applied force at point B\n",
        "F_b = 10.0 # kN\n",
        "\n",
        "# Applied moment at point C\n",
        "M_c = 30.0 # kN*m\n",
        "\n",
        "# Solve for the reaction force By\n",
        "B_y = (F_b * d_ab - M_c) / L\n",
        "B_y"
      ]
    },
    {
      "cell_type": "markdown",
      "metadata": {
        "id": "lYH6L1pUG12X"
      },
      "source": [
        "Now, we have done this calculation, I want to see the value of the reaction force $B_y$. Let's look at a nicer way to print the value of a variable using the `print()` function."
      ]
    },
    {
      "cell_type": "code",
      "execution_count": 1,
      "metadata": {
        "id": "pFg1jj-lG12X",
        "outputId": "a2444f6b-594d-478f-f918-6cba4295468c",
        "colab": {
          "base_uri": "https://localhost:8080/",
          "height": 141
        }
      },
      "outputs": [
        {
          "output_type": "error",
          "ename": "NameError",
          "evalue": "name 'B_y' is not defined",
          "traceback": [
            "\u001b[0;31m---------------------------------------------------------------------------\u001b[0m",
            "\u001b[0;31mNameError\u001b[0m                                 Traceback (most recent call last)",
            "\u001b[0;32m<ipython-input-1-800a57b29171>\u001b[0m in \u001b[0;36m<cell line: 0>\u001b[0;34m()\u001b[0m\n\u001b[0;32m----> 1\u001b[0;31m \u001b[0mprint\u001b[0m\u001b[0;34m(\u001b[0m\u001b[0;34mf\"The y component reaction force at point B = {B_y:.2f} kN\"\u001b[0m\u001b[0;34m)\u001b[0m\u001b[0;34m\u001b[0m\u001b[0;34m\u001b[0m\u001b[0m\n\u001b[0m",
            "\u001b[0;31mNameError\u001b[0m: name 'B_y' is not defined"
          ]
        }
      ],
      "source": [
        "print(f\"The y component reaction force at point B = {B_y:.2f} kN\")"
      ]
    },
    {
      "cell_type": "markdown",
      "metadata": {
        "id": "T9bmGJNQG12X"
      },
      "source": [
        "Notice all of the different ways we can format the output. The `f-string` method is the most modern and most readable. You are maintaining the flexibility, not hard-coding the variable name, and you can format the output to a specific number of decimal places, given by the number after the colon. Let me show you how we can change the output to different decimal places."
      ]
    },
    {
      "cell_type": "code",
      "execution_count": null,
      "metadata": {
        "id": "4E5Z8Y8RG12X",
        "outputId": "ee258e6d-2a0b-4788-9345-f27fc1b4d541"
      },
      "outputs": [
        {
          "name": "stdout",
          "output_type": "stream",
          "text": [
            "The y component reaction force at point B = 2.00000 kN\n"
          ]
        }
      ],
      "source": [
        "print(f\"The y component reaction force at point B = {B_y:.5f} kN\")"
      ]
    },
    {
      "cell_type": "markdown",
      "metadata": {
        "id": "0hegNYLgG12X"
      },
      "source": [
        "Or using scientific notation."
      ]
    },
    {
      "cell_type": "code",
      "execution_count": null,
      "metadata": {
        "id": "MaWFl5qIG12X",
        "outputId": "ef3be439-3860-4e94-ae60-fb2335e82a8e"
      },
      "outputs": [
        {
          "name": "stdout",
          "output_type": "stream",
          "text": [
            "The y component reaction force at point B = 2.00e+00 kN\n"
          ]
        }
      ],
      "source": [
        "print(f\"The y component reaction force at point B = {B_y:.2e} kN\")"
      ]
    },
    {
      "cell_type": "markdown",
      "metadata": {
        "id": "US5cij39G12X"
      },
      "source": [
        "Now I want you do use what we have learned to calculate the reaction force $A_y$.\n",
        "\n",
        "Print out the value to 2 decimal places, also print out the type of the variable using the print function."
      ]
    },
    {
      "cell_type": "code",
      "execution_count": null,
      "metadata": {
        "id": "yLK3mNE2G12X"
      },
      "outputs": [],
      "source": [
        "# YOUR CODE HERE"
      ]
    },
    {
      "cell_type": "markdown",
      "metadata": {
        "id": "cRlXcy1nG12X"
      },
      "source": [
        "### Question 2 - Data Structures\n",
        "\n",
        "We will need to organize our data in a way that makes it easy to calculate the shear force and bending moment at different points along the beam. Let's start reviewing some basic data structures in Python.\n",
        "\n",
        "Tuples are ordered collections of elements that are immutable. This means that once you create a tuple, you cannot change the elements inside it. You can access elements of a tuple using indexing, slicing, or unpacking.\n",
        "\n",
        "Let's make a tuples of our distances."
      ]
    },
    {
      "cell_type": "code",
      "execution_count": null,
      "metadata": {
        "id": "OefqyxESG12X",
        "outputId": "6fde44d5-1670-4d56-db3b-98cad3a1bdf4"
      },
      "outputs": [
        {
          "data": {
            "text/plain": [
              "tuple"
            ]
          },
          "execution_count": 17,
          "metadata": {},
          "output_type": "execute_result"
        }
      ],
      "source": [
        "# Construct a tuple of the distances\n",
        "ds = (d_ab, d_bc, d_cd)\n",
        "type(ds)"
      ]
    },
    {
      "cell_type": "markdown",
      "metadata": {
        "id": "71q6CSU8G12X"
      },
      "source": [
        "We can recover an element from the tuple using indexing. Remember that Python indexing starts at 0."
      ]
    },
    {
      "cell_type": "code",
      "execution_count": null,
      "metadata": {
        "id": "960p77XCG12Y",
        "outputId": "733afb2a-5c17-4365-c0d1-f099248bf4e6"
      },
      "outputs": [
        {
          "name": "stdout",
          "output_type": "stream",
          "text": [
            "The first element of ds is 6\n"
          ]
        }
      ],
      "source": [
        "d = ds[0]\n",
        "print(f'The first element of ds is {d}')"
      ]
    },
    {
      "cell_type": "markdown",
      "metadata": {
        "id": "7GHqhp8uG12Y"
      },
      "source": [
        "Let me show you what I mean by tuples being immutable. Let's try to change the value of the first element of the tuple."
      ]
    },
    {
      "cell_type": "code",
      "execution_count": null,
      "metadata": {
        "id": "2IM3bEAVG12Y",
        "outputId": "2e00e64c-a751-43f0-bc12-9596dca93c47"
      },
      "outputs": [
        {
          "name": "stdout",
          "output_type": "stream",
          "text": [
            "TypeError: 'tuple' object does not support item assignment\n"
          ]
        }
      ],
      "source": [
        "# Modify the first element of ds\n",
        "new_d = 10.0 # m\n",
        "\n",
        "# Attempt to modify the first element of ds\n",
        "try:\n",
        "    ds[0] = new_d\n",
        "except TypeError as e:\n",
        "    print(f\"TypeError: {e}\")"
      ]
    },
    {
      "cell_type": "markdown",
      "metadata": {
        "id": "9SVanfuUG12Y"
      },
      "source": [
        "If we want to change the value of an element in a collection, we should use a list. Lists are ordered collections of elements that are mutable. We use a `[]` to form lists rather than the `()` that we use to form tuples. This means that you can change the elements inside a list. You can access elements of a list using indexing, slicing, or unpacking."
      ]
    },
    {
      "cell_type": "code",
      "execution_count": null,
      "metadata": {
        "id": "jmRc9T_QG12Y",
        "outputId": "6024da77-e8b3-41cf-aa01-546357a1c314"
      },
      "outputs": [
        {
          "data": {
            "text/plain": [
              "list"
            ]
          },
          "execution_count": 20,
          "metadata": {},
          "output_type": "execute_result"
        }
      ],
      "source": [
        "# Construct a list of the distances\n",
        "ds = [d_ab, d_bc, d_cd]\n",
        "type(ds)"
      ]
    },
    {
      "cell_type": "markdown",
      "metadata": {
        "id": "EVLIMVgkG12Y"
      },
      "source": [
        "Here, we can easily change and element of the list. Just to show you some other ways to index a list, let's change the last element of the list."
      ]
    },
    {
      "cell_type": "code",
      "execution_count": null,
      "metadata": {
        "id": "Sy5CSis7G12Y",
        "outputId": "25d012fb-958e-41d3-f71d-0636980fd7de"
      },
      "outputs": [
        {
          "name": "stdout",
          "output_type": "stream",
          "text": [
            "The modified list of distances is [6, 3.0, 10.0]\n"
          ]
        }
      ],
      "source": [
        "# Create the new distance\n",
        "new_d = 10.0 # m\n",
        "\n",
        "# Modify the last element of ds\n",
        "ds[-1] = new_d\n",
        "print(f'The modified list of distances is {ds}')"
      ]
    },
    {
      "cell_type": "markdown",
      "metadata": {
        "id": "a0k6B-k_G12Y"
      },
      "source": [
        "The last basic data structure we will review is the dictionary. Dictionaries are unordered collections of key-value pairs. You can access the value of a key using indexing. Let's create a dictionary of the distances and applied loads on the beam. We create a dictionary using `{}` and separate the key-value pairs with a `:`. So the strings in the dictionary are the keys and the values are the numbers."
      ]
    },
    {
      "cell_type": "code",
      "execution_count": null,
      "metadata": {
        "id": "5odjA-AoG12d"
      },
      "outputs": [],
      "source": [
        "# Create a dictionary of the beam properties\n",
        "beam = {'d_ab': 6.0, 'd_bc': 3.0, 'd_cd': 6.0, 'F_b': 10.0, 'M_c': 30.0}"
      ]
    },
    {
      "cell_type": "markdown",
      "metadata": {
        "id": "931hNDW8G12d"
      },
      "source": [
        "We can access a value in the dictionary using the key."
      ]
    },
    {
      "cell_type": "code",
      "execution_count": null,
      "metadata": {
        "id": "SnNdR3JLG12d",
        "outputId": "465c536e-dcd5-4139-9c22-e8797fe985b1"
      },
      "outputs": [
        {
          "name": "stdout",
          "output_type": "stream",
          "text": [
            "The applied force at point B is 10.0 kN\n"
          ]
        }
      ],
      "source": [
        "# Access the value of the applied force at point B\n",
        "F_b = beam['F_b']\n",
        "print(f'The applied force at point B is {F_b} kN')"
      ]
    },
    {
      "cell_type": "markdown",
      "metadata": {
        "id": "rMsz7kIVG12d"
      },
      "source": [
        "These structures are very useful for organizing data and can be nested inside each other to create more complex data structures. Let's create a dictionary with a tuple of the distances and a list of the applied loads, and a dictionary of the reaction forces."
      ]
    },
    {
      "cell_type": "code",
      "execution_count": null,
      "metadata": {
        "id": "nUFc2BMDG12d",
        "outputId": "5fa65f95-7c05-4ca5-bae9-6f1d097e02ed"
      },
      "outputs": [
        {
          "ename": "NameError",
          "evalue": "name 'A_y' is not defined",
          "output_type": "error",
          "traceback": [
            "\u001b[0;31m---------------------------------------------------------------------------\u001b[0m",
            "\u001b[0;31mNameError\u001b[0m                                 Traceback (most recent call last)",
            "Cell \u001b[0;32mIn[24], line 2\u001b[0m\n\u001b[1;32m      1\u001b[0m \u001b[38;5;66;03m# Create a nested dictionary of the beam properties\u001b[39;00m\n\u001b[0;32m----> 2\u001b[0m beam \u001b[38;5;241m=\u001b[39m {\u001b[38;5;124m'\u001b[39m\u001b[38;5;124mdistances\u001b[39m\u001b[38;5;124m'\u001b[39m: ds, \u001b[38;5;124m'\u001b[39m\u001b[38;5;124mapplied\u001b[39m\u001b[38;5;124m'\u001b[39m: [F_b, M_c], \u001b[38;5;124m'\u001b[39m\u001b[38;5;124mreactions\u001b[39m\u001b[38;5;124m'\u001b[39m: {\u001b[38;5;124m'\u001b[39m\u001b[38;5;124mA_y\u001b[39m\u001b[38;5;124m'\u001b[39m: \u001b[43mA_y\u001b[49m, \u001b[38;5;124m'\u001b[39m\u001b[38;5;124mB_y\u001b[39m\u001b[38;5;124m'\u001b[39m: B_y}}\n\u001b[1;32m      4\u001b[0m \u001b[38;5;66;03m# Access the value of the reaction force at point A\u001b[39;00m\n\u001b[1;32m      5\u001b[0m A_y \u001b[38;5;241m=\u001b[39m beam[\u001b[38;5;124m'\u001b[39m\u001b[38;5;124mreactions\u001b[39m\u001b[38;5;124m'\u001b[39m][\u001b[38;5;124m'\u001b[39m\u001b[38;5;124mA_y\u001b[39m\u001b[38;5;124m'\u001b[39m]\n",
            "\u001b[0;31mNameError\u001b[0m: name 'A_y' is not defined"
          ]
        }
      ],
      "source": [
        "# Create a nested dictionary of the beam properties\n",
        "beam = {'distances': ds, 'applied': [F_b, M_c], 'reactions': {'A_y': A_y, 'B_y': B_y}}\n",
        "\n",
        "# Access the value of the reaction force at point A\n",
        "A_y = beam['reactions']['A_y']\n",
        "print(f'The reaction force at point A is {A_y} kN')"
      ]
    },
    {
      "cell_type": "markdown",
      "metadata": {
        "id": "eXhUAY8QG12d"
      },
      "source": [
        "I want you to create a nested dictionary with the courses that you are taking this semester. This should include the course name, the instructor's name, and how much you are liking it on a scale of 1 to 10. Then I want you to extract the course numbers and print the sum."
      ]
    },
    {
      "cell_type": "code",
      "execution_count": null,
      "metadata": {
        "id": "Ob38KVHHG12d"
      },
      "outputs": [],
      "source": [
        "# YOUR CODE HERE"
      ]
    },
    {
      "cell_type": "markdown",
      "metadata": {
        "id": "PFDv8MnHG12d"
      },
      "source": [
        "### Question 3 - Control Structures\n",
        "\n",
        "For loops, conditional statements, and functions are the basic control structures in Python. Let's start with for loops. For loops are used to iterate over a sequence of elements. You can use a for loop to iterate over a list, tuple, or dictionary.\n",
        "\n",
        "Let's iterate over the distances tuple and convert it to different units."
      ]
    },
    {
      "cell_type": "code",
      "execution_count": null,
      "metadata": {
        "id": "1ewQq3LLG12d",
        "outputId": "e8e9f8f3-c8af-41cd-8c0f-ad9346060954"
      },
      "outputs": [
        {
          "name": "stdout",
          "output_type": "stream",
          "text": [
            "The distances in cm are [600, 300.0, 1000.0]\n"
          ]
        }
      ],
      "source": [
        "# Initalize a list to store the distances in cm\n",
        "ds_cm = []\n",
        "\n",
        "# Iterate over each distance in the list\n",
        "for d in ds:\n",
        "    ds_cm.append(d * 100)\n",
        "\n",
        "print(f'The distances in cm are {ds_cm}')"
      ]
    },
    {
      "cell_type": "markdown",
      "metadata": {
        "id": "WzJWKFgNG12d"
      },
      "source": [
        "Python has in-line for loops called list comprehensions. These are a more concise way to write for loops. Let's convert the distances tuple to a list using a list comprehension. Writing code like this is more \"Pythonic\" and is generally preferred."
      ]
    },
    {
      "cell_type": "code",
      "execution_count": null,
      "metadata": {
        "id": "M4iixJhrG12d"
      },
      "outputs": [],
      "source": [
        "# Create a list comprehension to convert the distances to cm\n",
        "ds_cm = [d * 100 for d in ds]"
      ]
    },
    {
      "cell_type": "markdown",
      "metadata": {
        "id": "3OYt_GuUG12e"
      },
      "source": [
        "Let's integrate loops with conditional statements. Conditional statements are used to execute different blocks of code based on the truth value of a condition. The basic conditional statements in Python are `if`, `elif`, and `else`."
      ]
    },
    {
      "cell_type": "code",
      "execution_count": null,
      "metadata": {
        "id": "3CM-N8urG12e",
        "outputId": "32bf0b13-db4d-4d63-cc9e-f11314f51869"
      },
      "outputs": [
        {
          "name": "stdout",
          "output_type": "stream",
          "text": [
            "The distances are [6, 3.0, 10.0]\n",
            "The applied forces are [10.0, 30.0]\n",
            "The reaction forces are {'A_y': 8.0, 'B_y': 2.0}\n"
          ]
        }
      ],
      "source": [
        "# Loop through applied and reaction forces\n",
        "for key, value in beam.items():\n",
        "    if key == 'applied':\n",
        "        print(f'The applied forces are {value}')\n",
        "    elif key == 'reactions':\n",
        "        print(f'The reaction forces are {value}')\n",
        "    else:\n",
        "        print(f'The distances are {value}')"
      ]
    },
    {
      "cell_type": "markdown",
      "metadata": {
        "id": "FC3QphlKG12e"
      },
      "source": [
        "I want you to use loops and conditional statements to convert the forces from kN to N, reassign the values to the dictionary, and print the dictionary."
      ]
    },
    {
      "cell_type": "code",
      "execution_count": null,
      "metadata": {
        "id": "Wfg3mO4SG12e"
      },
      "outputs": [],
      "source": [
        "# YOUR CODE HERE"
      ]
    },
    {
      "cell_type": "markdown",
      "metadata": {
        "id": "4mUaN4GbG12e"
      },
      "source": [
        "### Question 4 - Functions\n",
        "\n",
        "In order to calculate the shear force and bending moment at different points along the beam, we will need to write functions to perform these calculations. Functions are reusable blocks of code that perform a specific task. They can take arguments and return values.\n",
        "\n",
        "The shear force at point B is a trivial calculation. The sum of the forces in the y-direction must be zero.\n",
        "\n",
        "$$\n",
        "\\sum F_y = 0\n",
        "$$\n",
        "\n",
        "$$\n",
        "\\sum F_y = A_y - V_{AB}\n",
        "$$\n",
        "\n",
        "Where $V_{AB}$ is the shear force at point B. Let's solve for $V_{AB}$."
      ]
    },
    {
      "cell_type": "code",
      "execution_count": null,
      "metadata": {
        "id": "FUncez0YG12e",
        "outputId": "985cb673-a85d-49b8-e99e-eb287ea494bf"
      },
      "outputs": [
        {
          "name": "stdout",
          "output_type": "stream",
          "text": [
            "The shear force at point B is 8.0 kN\n"
          ]
        }
      ],
      "source": [
        "def calc_V_ab(A_y):\n",
        "    \"\"\"\n",
        "    Calculate the shear force at point B.\n",
        "\n",
        "    Parameters:\n",
        "    A_y : float\n",
        "        The reaction force at point A in kN.\n",
        "\n",
        "    Returns:\n",
        "    V_ab : float\n",
        "        The shear forcein kN.\n",
        "    \"\"\"\n",
        "    V_ab = A_y\n",
        "    return V_ab\n",
        "\n",
        "V_b = calc_V_ab(A_y)\n",
        "print(f'The shear force at point B is {V_b} kN')"
      ]
    },
    {
      "cell_type": "markdown",
      "metadata": {
        "id": "7iJ5zWX0G12e"
      },
      "source": [
        "The function begins with the `def` keyword, followed by the function name and the arguments in parentheses. Following is what is called a docstring, which is a string that describes the purpose of the function. It is best practice to include a docstring in your functions, so that others can understand what the function does.\n",
        "The function body is indented. The function returns a value using the `return` keyword.\n",
        "\n",
        "Let's do it again for the shear force at point C."
      ]
    },
    {
      "cell_type": "code",
      "execution_count": null,
      "metadata": {
        "id": "3f2l8Lo4G12e",
        "outputId": "67aa31a2-919d-4dbf-ca23-d4ecde82758a"
      },
      "outputs": [
        {
          "name": "stdout",
          "output_type": "stream",
          "text": [
            "The shear force at point C is -2.0 kN\n"
          ]
        }
      ],
      "source": [
        "def calc_V_bc(F_b, A_y):\n",
        "    \"\"\"\n",
        "    Calculate the shear force at point C.\n",
        "\n",
        "    Parameters:\n",
        "    F_b : float\n",
        "        The applied force at point B in kN.\n",
        "    A_y : float\n",
        "        The reaction force at point A in kN.\n",
        "\n",
        "    Returns:\n",
        "    V_bc : float\n",
        "        The shear force in kN.\n",
        "    \"\"\"\n",
        "    V_bc = A_y - F_b\n",
        "    return V_bc\n",
        "\n",
        "V_c = calc_V_bc(F_b, A_y)\n",
        "print(f'The shear force at point C is {V_c} kN')"
      ]
    },
    {
      "cell_type": "markdown",
      "metadata": {
        "id": "3xJNT9feG12e"
      },
      "source": [
        "I want you to write functions to calculate the bending moment in the rest of the beam."
      ]
    },
    {
      "cell_type": "code",
      "execution_count": null,
      "metadata": {
        "id": "t27W3WD_G12e"
      },
      "outputs": [],
      "source": [
        "# YOUR CODE HERE"
      ]
    },
    {
      "cell_type": "markdown",
      "metadata": {
        "id": "xFpDxy6KG12e"
      },
      "source": [
        "### Question 5 - Plotting shear force and bending moment diagrams\n",
        "\n",
        "Great! Now we can put it all together to plot the shear force and bending moment diagrams. We will use the `matplotlib` library to plot the diagrams and `numpy` to help assist with our numerical computations. I have imported the libaries already, but when you are working on your own, you will need to import them.\n",
        "\n",
        "We want to plot at arbitrary points along the beam, so we will need to create an array of x-values. We can use the `np.linspace()` function to create an array of evenly spaced values along the length of the beam"
      ]
    },
    {
      "cell_type": "code",
      "execution_count": null,
      "metadata": {
        "id": "r1Yar6PmG12e"
      },
      "outputs": [],
      "source": [
        "x = np.linspace(0, L, 100)"
      ]
    },
    {
      "cell_type": "markdown",
      "metadata": {
        "id": "yzwTGAY2G12e"
      },
      "source": [
        "I am going to create the shear force diagram for you. First let's initalize our shear force array."
      ]
    },
    {
      "cell_type": "code",
      "execution_count": null,
      "metadata": {
        "id": "VWoPhx0xG12e"
      },
      "outputs": [],
      "source": [
        "shear = np.zeros_like(x)"
      ]
    },
    {
      "cell_type": "markdown",
      "metadata": {
        "id": "GwgFJUViG12f"
      },
      "source": [
        "Now we will loop through the x-values and calculate the shear force at each point. We will use the conditionals to determine which function to use at each segment."
      ]
    },
    {
      "cell_type": "code",
      "execution_count": null,
      "metadata": {
        "id": "mjKd7-tJG12f"
      },
      "outputs": [],
      "source": [
        "for i, xi in enumerate(x):\n",
        "    if xi <= d_ab:\n",
        "        shear[i] = calc_V_ab(A_y)\n",
        "    else:\n",
        "        shear[i] = calc_V_bc(F_b, A_y)"
      ]
    },
    {
      "cell_type": "markdown",
      "metadata": {
        "id": "XxMcwSdhG12f"
      },
      "source": [
        "Let's plot the shear force diagram. Always title your plot and label your axes with units. A lot of the rest of plotting is just formatting the plot to make it look nice."
      ]
    },
    {
      "cell_type": "code",
      "execution_count": null,
      "metadata": {
        "id": "3fZ1UJrSG12f",
        "outputId": "1e0d7852-2d25-480e-cd96-40a3704f0129"
      },
      "outputs": [
        {
          "data": {
            "image/svg+xml": [
              "<?xml version=\"1.0\" encoding=\"utf-8\" standalone=\"no\"?>\n",
              "<!DOCTYPE svg PUBLIC \"-//W3C//DTD SVG 1.1//EN\"\n",
              "  \"http://www.w3.org/Graphics/SVG/1.1/DTD/svg11.dtd\">\n",
              "<svg xmlns:xlink=\"http://www.w3.org/1999/xlink\" width=\"402.862375pt\" height=\"322.857375pt\" viewBox=\"0 0 402.862375 322.857375\" xmlns=\"http://www.w3.org/2000/svg\" version=\"1.1\">\n",
              " <metadata>\n",
              "  <rdf:RDF xmlns:dc=\"http://purl.org/dc/elements/1.1/\" xmlns:cc=\"http://creativecommons.org/ns#\" xmlns:rdf=\"http://www.w3.org/1999/02/22-rdf-syntax-ns#\">\n",
              "   <cc:Work>\n",
              "    <dc:type rdf:resource=\"http://purl.org/dc/dcmitype/StillImage\"/>\n",
              "    <dc:date>2025-02-03T23:15:19.227410</dc:date>\n",
              "    <dc:format>image/svg+xml</dc:format>\n",
              "    <dc:creator>\n",
              "     <cc:Agent>\n",
              "      <dc:title>Matplotlib v3.9.0, https://matplotlib.org/</dc:title>\n",
              "     </cc:Agent>\n",
              "    </dc:creator>\n",
              "   </cc:Work>\n",
              "  </rdf:RDF>\n",
              " </metadata>\n",
              " <defs>\n",
              "  <style type=\"text/css\">*{stroke-linejoin: round; stroke-linecap: butt}</style>\n",
              " </defs>\n",
              " <g id=\"figure_1\">\n",
              "  <g id=\"patch_1\">\n",
              "   <path d=\"M 0 322.857375 \n",
              "L 402.862375 322.857375 \n",
              "L 402.862375 0 \n",
              "L 0 0 \n",
              "z\n",
              "\" style=\"fill: #ffffff\"/>\n",
              "  </g>\n",
              "  <g id=\"axes_1\">\n",
              "   <g id=\"patch_2\">\n",
              "    <path d=\"M 38.542375 286.3005 \n",
              "L 395.662375 286.3005 \n",
              "L 395.662375 20.1885 \n",
              "L 38.542375 20.1885 \n",
              "z\n",
              "\" style=\"fill: #ffffff\"/>\n",
              "   </g>\n",
              "   <g id=\"matplotlib.axis_1\">\n",
              "    <g id=\"xtick_1\">\n",
              "     <g id=\"line2d_1\">\n",
              "      <path d=\"M 54.775102 286.3005 \n",
              "L 54.775102 20.1885 \n",
              "\" clip-path=\"url(#p547fe2f367)\" style=\"fill: none; stroke: #cccccc; stroke-width: 0.8; stroke-linecap: round\"/>\n",
              "     </g>\n",
              "     <g id=\"line2d_2\">\n",
              "      <defs>\n",
              "       <path id=\"m54363621af\" d=\"M 0 0 \n",
              "L 0 4.8 \n",
              "\" style=\"stroke: #262626\"/>\n",
              "      </defs>\n",
              "      <g>\n",
              "       <use xlink:href=\"#m54363621af\" x=\"54.775102\" y=\"286.3005\" style=\"fill: #262626; stroke: #262626\"/>\n",
              "      </g>\n",
              "     </g>\n",
              "     <g id=\"text_1\">\n",
              "      <!-- 0 -->\n",
              "      <g style=\"fill: #262626\" transform=\"translate(52.32829 300.899375) scale(0.088 -0.088)\">\n",
              "       <defs>\n",
              "        <path id=\"ArialMT-30\" d=\"M 266 2259 \n",
              "Q 266 3072 433 3567 \n",
              "Q 600 4063 929 4331 \n",
              "Q 1259 4600 1759 4600 \n",
              "Q 2128 4600 2406 4451 \n",
              "Q 2684 4303 2865 4023 \n",
              "Q 3047 3744 3150 3342 \n",
              "Q 3253 2941 3253 2259 \n",
              "Q 3253 1453 3087 958 \n",
              "Q 2922 463 2592 192 \n",
              "Q 2263 -78 1759 -78 \n",
              "Q 1097 -78 719 397 \n",
              "Q 266 969 266 2259 \n",
              "z\n",
              "M 844 2259 \n",
              "Q 844 1131 1108 757 \n",
              "Q 1372 384 1759 384 \n",
              "Q 2147 384 2411 759 \n",
              "Q 2675 1134 2675 2259 \n",
              "Q 2675 3391 2411 3762 \n",
              "Q 2147 4134 1753 4134 \n",
              "Q 1366 4134 1134 3806 \n",
              "Q 844 3388 844 2259 \n",
              "z\n",
              "\" transform=\"scale(0.015625)\"/>\n",
              "       </defs>\n",
              "       <use xlink:href=\"#ArialMT-30\"/>\n",
              "      </g>\n",
              "     </g>\n",
              "    </g>\n",
              "    <g id=\"xtick_2\">\n",
              "     <g id=\"line2d_3\">\n",
              "      <path d=\"M 98.062375 286.3005 \n",
              "L 98.062375 20.1885 \n",
              "\" clip-path=\"url(#p547fe2f367)\" style=\"fill: none; stroke: #cccccc; stroke-width: 0.8; stroke-linecap: round\"/>\n",
              "     </g>\n",
              "     <g id=\"line2d_4\">\n",
              "      <g>\n",
              "       <use xlink:href=\"#m54363621af\" x=\"98.062375\" y=\"286.3005\" style=\"fill: #262626; stroke: #262626\"/>\n",
              "      </g>\n",
              "     </g>\n",
              "     <g id=\"text_2\">\n",
              "      <!-- 2 -->\n",
              "      <g style=\"fill: #262626\" transform=\"translate(95.615563 300.899375) scale(0.088 -0.088)\">\n",
              "       <defs>\n",
              "        <path id=\"ArialMT-32\" d=\"M 3222 541 \n",
              "L 3222 0 \n",
              "L 194 0 \n",
              "Q 188 203 259 391 \n",
              "Q 375 700 629 1000 \n",
              "Q 884 1300 1366 1694 \n",
              "Q 2113 2306 2375 2664 \n",
              "Q 2638 3022 2638 3341 \n",
              "Q 2638 3675 2398 3904 \n",
              "Q 2159 4134 1775 4134 \n",
              "Q 1369 4134 1125 3890 \n",
              "Q 881 3647 878 3216 \n",
              "L 300 3275 \n",
              "Q 359 3922 746 4261 \n",
              "Q 1134 4600 1788 4600 \n",
              "Q 2447 4600 2831 4234 \n",
              "Q 3216 3869 3216 3328 \n",
              "Q 3216 3053 3103 2787 \n",
              "Q 2991 2522 2730 2228 \n",
              "Q 2469 1934 1863 1422 \n",
              "Q 1356 997 1212 845 \n",
              "Q 1069 694 975 541 \n",
              "L 3222 541 \n",
              "z\n",
              "\" transform=\"scale(0.015625)\"/>\n",
              "       </defs>\n",
              "       <use xlink:href=\"#ArialMT-32\"/>\n",
              "      </g>\n",
              "     </g>\n",
              "    </g>\n",
              "    <g id=\"xtick_3\">\n",
              "     <g id=\"line2d_5\">\n",
              "      <path d=\"M 141.349648 286.3005 \n",
              "L 141.349648 20.1885 \n",
              "\" clip-path=\"url(#p547fe2f367)\" style=\"fill: none; stroke: #cccccc; stroke-width: 0.8; stroke-linecap: round\"/>\n",
              "     </g>\n",
              "     <g id=\"line2d_6\">\n",
              "      <g>\n",
              "       <use xlink:href=\"#m54363621af\" x=\"141.349648\" y=\"286.3005\" style=\"fill: #262626; stroke: #262626\"/>\n",
              "      </g>\n",
              "     </g>\n",
              "     <g id=\"text_3\">\n",
              "      <!-- 4 -->\n",
              "      <g style=\"fill: #262626\" transform=\"translate(138.902835 300.899375) scale(0.088 -0.088)\">\n",
              "       <defs>\n",
              "        <path id=\"ArialMT-34\" d=\"M 2069 0 \n",
              "L 2069 1097 \n",
              "L 81 1097 \n",
              "L 81 1613 \n",
              "L 2172 4581 \n",
              "L 2631 4581 \n",
              "L 2631 1613 \n",
              "L 3250 1613 \n",
              "L 3250 1097 \n",
              "L 2631 1097 \n",
              "L 2631 0 \n",
              "L 2069 0 \n",
              "z\n",
              "M 2069 1613 \n",
              "L 2069 3678 \n",
              "L 634 1613 \n",
              "L 2069 1613 \n",
              "z\n",
              "\" transform=\"scale(0.015625)\"/>\n",
              "       </defs>\n",
              "       <use xlink:href=\"#ArialMT-34\"/>\n",
              "      </g>\n",
              "     </g>\n",
              "    </g>\n",
              "    <g id=\"xtick_4\">\n",
              "     <g id=\"line2d_7\">\n",
              "      <path d=\"M 184.63692 286.3005 \n",
              "L 184.63692 20.1885 \n",
              "\" clip-path=\"url(#p547fe2f367)\" style=\"fill: none; stroke: #cccccc; stroke-width: 0.8; stroke-linecap: round\"/>\n",
              "     </g>\n",
              "     <g id=\"line2d_8\">\n",
              "      <g>\n",
              "       <use xlink:href=\"#m54363621af\" x=\"184.63692\" y=\"286.3005\" style=\"fill: #262626; stroke: #262626\"/>\n",
              "      </g>\n",
              "     </g>\n",
              "     <g id=\"text_4\">\n",
              "      <!-- 6 -->\n",
              "      <g style=\"fill: #262626\" transform=\"translate(182.190108 300.899375) scale(0.088 -0.088)\">\n",
              "       <defs>\n",
              "        <path id=\"ArialMT-36\" d=\"M 3184 3459 \n",
              "L 2625 3416 \n",
              "Q 2550 3747 2413 3897 \n",
              "Q 2184 4138 1850 4138 \n",
              "Q 1581 4138 1378 3988 \n",
              "Q 1113 3794 959 3422 \n",
              "Q 806 3050 800 2363 \n",
              "Q 1003 2672 1297 2822 \n",
              "Q 1591 2972 1913 2972 \n",
              "Q 2475 2972 2870 2558 \n",
              "Q 3266 2144 3266 1488 \n",
              "Q 3266 1056 3080 686 \n",
              "Q 2894 316 2569 119 \n",
              "Q 2244 -78 1831 -78 \n",
              "Q 1128 -78 684 439 \n",
              "Q 241 956 241 2144 \n",
              "Q 241 3472 731 4075 \n",
              "Q 1159 4600 1884 4600 \n",
              "Q 2425 4600 2770 4297 \n",
              "Q 3116 3994 3184 3459 \n",
              "z\n",
              "M 888 1484 \n",
              "Q 888 1194 1011 928 \n",
              "Q 1134 663 1356 523 \n",
              "Q 1578 384 1822 384 \n",
              "Q 2178 384 2434 671 \n",
              "Q 2691 959 2691 1453 \n",
              "Q 2691 1928 2437 2201 \n",
              "Q 2184 2475 1800 2475 \n",
              "Q 1419 2475 1153 2201 \n",
              "Q 888 1928 888 1484 \n",
              "z\n",
              "\" transform=\"scale(0.015625)\"/>\n",
              "       </defs>\n",
              "       <use xlink:href=\"#ArialMT-36\"/>\n",
              "      </g>\n",
              "     </g>\n",
              "    </g>\n",
              "    <g id=\"xtick_5\">\n",
              "     <g id=\"line2d_9\">\n",
              "      <path d=\"M 227.924193 286.3005 \n",
              "L 227.924193 20.1885 \n",
              "\" clip-path=\"url(#p547fe2f367)\" style=\"fill: none; stroke: #cccccc; stroke-width: 0.8; stroke-linecap: round\"/>\n",
              "     </g>\n",
              "     <g id=\"line2d_10\">\n",
              "      <g>\n",
              "       <use xlink:href=\"#m54363621af\" x=\"227.924193\" y=\"286.3005\" style=\"fill: #262626; stroke: #262626\"/>\n",
              "      </g>\n",
              "     </g>\n",
              "     <g id=\"text_5\">\n",
              "      <!-- 8 -->\n",
              "      <g style=\"fill: #262626\" transform=\"translate(225.477381 300.899375) scale(0.088 -0.088)\">\n",
              "       <defs>\n",
              "        <path id=\"ArialMT-38\" d=\"M 1131 2484 \n",
              "Q 781 2613 612 2850 \n",
              "Q 444 3088 444 3419 \n",
              "Q 444 3919 803 4259 \n",
              "Q 1163 4600 1759 4600 \n",
              "Q 2359 4600 2725 4251 \n",
              "Q 3091 3903 3091 3403 \n",
              "Q 3091 3084 2923 2848 \n",
              "Q 2756 2613 2416 2484 \n",
              "Q 2838 2347 3058 2040 \n",
              "Q 3278 1734 3278 1309 \n",
              "Q 3278 722 2862 322 \n",
              "Q 2447 -78 1769 -78 \n",
              "Q 1091 -78 675 323 \n",
              "Q 259 725 259 1325 \n",
              "Q 259 1772 486 2073 \n",
              "Q 713 2375 1131 2484 \n",
              "z\n",
              "M 1019 3438 \n",
              "Q 1019 3113 1228 2906 \n",
              "Q 1438 2700 1772 2700 \n",
              "Q 2097 2700 2305 2904 \n",
              "Q 2513 3109 2513 3406 \n",
              "Q 2513 3716 2298 3927 \n",
              "Q 2084 4138 1766 4138 \n",
              "Q 1444 4138 1231 3931 \n",
              "Q 1019 3725 1019 3438 \n",
              "z\n",
              "M 838 1322 \n",
              "Q 838 1081 952 856 \n",
              "Q 1066 631 1291 507 \n",
              "Q 1516 384 1775 384 \n",
              "Q 2178 384 2440 643 \n",
              "Q 2703 903 2703 1303 \n",
              "Q 2703 1709 2433 1975 \n",
              "Q 2163 2241 1756 2241 \n",
              "Q 1359 2241 1098 1978 \n",
              "Q 838 1716 838 1322 \n",
              "z\n",
              "\" transform=\"scale(0.015625)\"/>\n",
              "       </defs>\n",
              "       <use xlink:href=\"#ArialMT-38\"/>\n",
              "      </g>\n",
              "     </g>\n",
              "    </g>\n",
              "    <g id=\"xtick_6\">\n",
              "     <g id=\"line2d_11\">\n",
              "      <path d=\"M 271.211466 286.3005 \n",
              "L 271.211466 20.1885 \n",
              "\" clip-path=\"url(#p547fe2f367)\" style=\"fill: none; stroke: #cccccc; stroke-width: 0.8; stroke-linecap: round\"/>\n",
              "     </g>\n",
              "     <g id=\"line2d_12\">\n",
              "      <g>\n",
              "       <use xlink:href=\"#m54363621af\" x=\"271.211466\" y=\"286.3005\" style=\"fill: #262626; stroke: #262626\"/>\n",
              "      </g>\n",
              "     </g>\n",
              "     <g id=\"text_6\">\n",
              "      <!-- 10 -->\n",
              "      <g style=\"fill: #262626\" transform=\"translate(266.317841 300.899375) scale(0.088 -0.088)\">\n",
              "       <defs>\n",
              "        <path id=\"ArialMT-31\" d=\"M 2384 0 \n",
              "L 1822 0 \n",
              "L 1822 3584 \n",
              "Q 1619 3391 1289 3197 \n",
              "Q 959 3003 697 2906 \n",
              "L 697 3450 \n",
              "Q 1169 3672 1522 3987 \n",
              "Q 1875 4303 2022 4600 \n",
              "L 2384 4600 \n",
              "L 2384 0 \n",
              "z\n",
              "\" transform=\"scale(0.015625)\"/>\n",
              "       </defs>\n",
              "       <use xlink:href=\"#ArialMT-31\"/>\n",
              "       <use xlink:href=\"#ArialMT-30\" x=\"55.615234\"/>\n",
              "      </g>\n",
              "     </g>\n",
              "    </g>\n",
              "    <g id=\"xtick_7\">\n",
              "     <g id=\"line2d_13\">\n",
              "      <path d=\"M 314.498739 286.3005 \n",
              "L 314.498739 20.1885 \n",
              "\" clip-path=\"url(#p547fe2f367)\" style=\"fill: none; stroke: #cccccc; stroke-width: 0.8; stroke-linecap: round\"/>\n",
              "     </g>\n",
              "     <g id=\"line2d_14\">\n",
              "      <g>\n",
              "       <use xlink:href=\"#m54363621af\" x=\"314.498739\" y=\"286.3005\" style=\"fill: #262626; stroke: #262626\"/>\n",
              "      </g>\n",
              "     </g>\n",
              "     <g id=\"text_7\">\n",
              "      <!-- 12 -->\n",
              "      <g style=\"fill: #262626\" transform=\"translate(309.605114 300.899375) scale(0.088 -0.088)\">\n",
              "       <use xlink:href=\"#ArialMT-31\"/>\n",
              "       <use xlink:href=\"#ArialMT-32\" x=\"55.615234\"/>\n",
              "      </g>\n",
              "     </g>\n",
              "    </g>\n",
              "    <g id=\"xtick_8\">\n",
              "     <g id=\"line2d_15\">\n",
              "      <path d=\"M 357.786011 286.3005 \n",
              "L 357.786011 20.1885 \n",
              "\" clip-path=\"url(#p547fe2f367)\" style=\"fill: none; stroke: #cccccc; stroke-width: 0.8; stroke-linecap: round\"/>\n",
              "     </g>\n",
              "     <g id=\"line2d_16\">\n",
              "      <g>\n",
              "       <use xlink:href=\"#m54363621af\" x=\"357.786011\" y=\"286.3005\" style=\"fill: #262626; stroke: #262626\"/>\n",
              "      </g>\n",
              "     </g>\n",
              "     <g id=\"text_8\">\n",
              "      <!-- 14 -->\n",
              "      <g style=\"fill: #262626\" transform=\"translate(352.892386 300.899375) scale(0.088 -0.088)\">\n",
              "       <use xlink:href=\"#ArialMT-31\"/>\n",
              "       <use xlink:href=\"#ArialMT-34\" x=\"55.615234\"/>\n",
              "      </g>\n",
              "     </g>\n",
              "    </g>\n",
              "    <g id=\"text_9\">\n",
              "     <!-- Distance (m) -->\n",
              "     <g style=\"fill: #262626\" transform=\"translate(189.899875 313.636875) scale(0.096 -0.096)\">\n",
              "      <defs>\n",
              "       <path id=\"ArialMT-44\" d=\"M 494 0 \n",
              "L 494 4581 \n",
              "L 2072 4581 \n",
              "Q 2606 4581 2888 4516 \n",
              "Q 3281 4425 3559 4188 \n",
              "Q 3922 3881 4101 3404 \n",
              "Q 4281 2928 4281 2316 \n",
              "Q 4281 1794 4159 1391 \n",
              "Q 4038 988 3847 723 \n",
              "Q 3656 459 3429 307 \n",
              "Q 3203 156 2883 78 \n",
              "Q 2563 0 2147 0 \n",
              "L 494 0 \n",
              "z\n",
              "M 1100 541 \n",
              "L 2078 541 \n",
              "Q 2531 541 2789 625 \n",
              "Q 3047 709 3200 863 \n",
              "Q 3416 1078 3536 1442 \n",
              "Q 3656 1806 3656 2325 \n",
              "Q 3656 3044 3420 3430 \n",
              "Q 3184 3816 2847 3947 \n",
              "Q 2603 4041 2063 4041 \n",
              "L 1100 4041 \n",
              "L 1100 541 \n",
              "z\n",
              "\" transform=\"scale(0.015625)\"/>\n",
              "       <path id=\"ArialMT-69\" d=\"M 425 3934 \n",
              "L 425 4581 \n",
              "L 988 4581 \n",
              "L 988 3934 \n",
              "L 425 3934 \n",
              "z\n",
              "M 425 0 \n",
              "L 425 3319 \n",
              "L 988 3319 \n",
              "L 988 0 \n",
              "L 425 0 \n",
              "z\n",
              "\" transform=\"scale(0.015625)\"/>\n",
              "       <path id=\"ArialMT-73\" d=\"M 197 991 \n",
              "L 753 1078 \n",
              "Q 800 744 1014 566 \n",
              "Q 1228 388 1613 388 \n",
              "Q 2000 388 2187 545 \n",
              "Q 2375 703 2375 916 \n",
              "Q 2375 1106 2209 1216 \n",
              "Q 2094 1291 1634 1406 \n",
              "Q 1016 1563 777 1677 \n",
              "Q 538 1791 414 1992 \n",
              "Q 291 2194 291 2438 \n",
              "Q 291 2659 392 2848 \n",
              "Q 494 3038 669 3163 \n",
              "Q 800 3259 1026 3326 \n",
              "Q 1253 3394 1513 3394 \n",
              "Q 1903 3394 2198 3281 \n",
              "Q 2494 3169 2634 2976 \n",
              "Q 2775 2784 2828 2463 \n",
              "L 2278 2388 \n",
              "Q 2241 2644 2061 2787 \n",
              "Q 1881 2931 1553 2931 \n",
              "Q 1166 2931 1000 2803 \n",
              "Q 834 2675 834 2503 \n",
              "Q 834 2394 903 2306 \n",
              "Q 972 2216 1119 2156 \n",
              "Q 1203 2125 1616 2013 \n",
              "Q 2213 1853 2448 1751 \n",
              "Q 2684 1650 2818 1456 \n",
              "Q 2953 1263 2953 975 \n",
              "Q 2953 694 2789 445 \n",
              "Q 2625 197 2315 61 \n",
              "Q 2006 -75 1616 -75 \n",
              "Q 969 -75 630 194 \n",
              "Q 291 463 197 991 \n",
              "z\n",
              "\" transform=\"scale(0.015625)\"/>\n",
              "       <path id=\"ArialMT-74\" d=\"M 1650 503 \n",
              "L 1731 6 \n",
              "Q 1494 -44 1306 -44 \n",
              "Q 1000 -44 831 53 \n",
              "Q 663 150 594 308 \n",
              "Q 525 466 525 972 \n",
              "L 525 2881 \n",
              "L 113 2881 \n",
              "L 113 3319 \n",
              "L 525 3319 \n",
              "L 525 4141 \n",
              "L 1084 4478 \n",
              "L 1084 3319 \n",
              "L 1650 3319 \n",
              "L 1650 2881 \n",
              "L 1084 2881 \n",
              "L 1084 941 \n",
              "Q 1084 700 1114 631 \n",
              "Q 1144 563 1211 522 \n",
              "Q 1278 481 1403 481 \n",
              "Q 1497 481 1650 503 \n",
              "z\n",
              "\" transform=\"scale(0.015625)\"/>\n",
              "       <path id=\"ArialMT-61\" d=\"M 2588 409 \n",
              "Q 2275 144 1986 34 \n",
              "Q 1697 -75 1366 -75 \n",
              "Q 819 -75 525 192 \n",
              "Q 231 459 231 875 \n",
              "Q 231 1119 342 1320 \n",
              "Q 453 1522 633 1644 \n",
              "Q 813 1766 1038 1828 \n",
              "Q 1203 1872 1538 1913 \n",
              "Q 2219 1994 2541 2106 \n",
              "Q 2544 2222 2544 2253 \n",
              "Q 2544 2597 2384 2738 \n",
              "Q 2169 2928 1744 2928 \n",
              "Q 1347 2928 1158 2789 \n",
              "Q 969 2650 878 2297 \n",
              "L 328 2372 \n",
              "Q 403 2725 575 2942 \n",
              "Q 747 3159 1072 3276 \n",
              "Q 1397 3394 1825 3394 \n",
              "Q 2250 3394 2515 3294 \n",
              "Q 2781 3194 2906 3042 \n",
              "Q 3031 2891 3081 2659 \n",
              "Q 3109 2516 3109 2141 \n",
              "L 3109 1391 \n",
              "Q 3109 606 3145 398 \n",
              "Q 3181 191 3288 0 \n",
              "L 2700 0 \n",
              "Q 2613 175 2588 409 \n",
              "z\n",
              "M 2541 1666 \n",
              "Q 2234 1541 1622 1453 \n",
              "Q 1275 1403 1131 1340 \n",
              "Q 988 1278 909 1158 \n",
              "Q 831 1038 831 891 \n",
              "Q 831 666 1001 516 \n",
              "Q 1172 366 1500 366 \n",
              "Q 1825 366 2078 508 \n",
              "Q 2331 650 2450 897 \n",
              "Q 2541 1088 2541 1459 \n",
              "L 2541 1666 \n",
              "z\n",
              "\" transform=\"scale(0.015625)\"/>\n",
              "       <path id=\"ArialMT-6e\" d=\"M 422 0 \n",
              "L 422 3319 \n",
              "L 928 3319 \n",
              "L 928 2847 \n",
              "Q 1294 3394 1984 3394 \n",
              "Q 2284 3394 2536 3286 \n",
              "Q 2788 3178 2913 3003 \n",
              "Q 3038 2828 3088 2588 \n",
              "Q 3119 2431 3119 2041 \n",
              "L 3119 0 \n",
              "L 2556 0 \n",
              "L 2556 2019 \n",
              "Q 2556 2363 2490 2533 \n",
              "Q 2425 2703 2258 2804 \n",
              "Q 2091 2906 1866 2906 \n",
              "Q 1506 2906 1245 2678 \n",
              "Q 984 2450 984 1813 \n",
              "L 984 0 \n",
              "L 422 0 \n",
              "z\n",
              "\" transform=\"scale(0.015625)\"/>\n",
              "       <path id=\"ArialMT-63\" d=\"M 2588 1216 \n",
              "L 3141 1144 \n",
              "Q 3050 572 2676 248 \n",
              "Q 2303 -75 1759 -75 \n",
              "Q 1078 -75 664 370 \n",
              "Q 250 816 250 1647 \n",
              "Q 250 2184 428 2587 \n",
              "Q 606 2991 970 3192 \n",
              "Q 1334 3394 1763 3394 \n",
              "Q 2303 3394 2647 3120 \n",
              "Q 2991 2847 3088 2344 \n",
              "L 2541 2259 \n",
              "Q 2463 2594 2264 2762 \n",
              "Q 2066 2931 1784 2931 \n",
              "Q 1359 2931 1093 2626 \n",
              "Q 828 2322 828 1663 \n",
              "Q 828 994 1084 691 \n",
              "Q 1341 388 1753 388 \n",
              "Q 2084 388 2306 591 \n",
              "Q 2528 794 2588 1216 \n",
              "z\n",
              "\" transform=\"scale(0.015625)\"/>\n",
              "       <path id=\"ArialMT-65\" d=\"M 2694 1069 \n",
              "L 3275 997 \n",
              "Q 3138 488 2766 206 \n",
              "Q 2394 -75 1816 -75 \n",
              "Q 1088 -75 661 373 \n",
              "Q 234 822 234 1631 \n",
              "Q 234 2469 665 2931 \n",
              "Q 1097 3394 1784 3394 \n",
              "Q 2450 3394 2872 2941 \n",
              "Q 3294 2488 3294 1666 \n",
              "Q 3294 1616 3291 1516 \n",
              "L 816 1516 \n",
              "Q 847 969 1125 678 \n",
              "Q 1403 388 1819 388 \n",
              "Q 2128 388 2347 550 \n",
              "Q 2566 713 2694 1069 \n",
              "z\n",
              "M 847 1978 \n",
              "L 2700 1978 \n",
              "Q 2663 2397 2488 2606 \n",
              "Q 2219 2931 1791 2931 \n",
              "Q 1403 2931 1139 2672 \n",
              "Q 875 2413 847 1978 \n",
              "z\n",
              "\" transform=\"scale(0.015625)\"/>\n",
              "       <path id=\"ArialMT-20\" transform=\"scale(0.015625)\"/>\n",
              "       <path id=\"ArialMT-28\" d=\"M 1497 -1347 \n",
              "Q 1031 -759 709 28 \n",
              "Q 388 816 388 1659 \n",
              "Q 388 2403 628 3084 \n",
              "Q 909 3875 1497 4659 \n",
              "L 1900 4659 \n",
              "Q 1522 4009 1400 3731 \n",
              "Q 1209 3300 1100 2831 \n",
              "Q 966 2247 966 1656 \n",
              "Q 966 153 1900 -1347 \n",
              "L 1497 -1347 \n",
              "z\n",
              "\" transform=\"scale(0.015625)\"/>\n",
              "       <path id=\"ArialMT-6d\" d=\"M 422 0 \n",
              "L 422 3319 \n",
              "L 925 3319 \n",
              "L 925 2853 \n",
              "Q 1081 3097 1340 3245 \n",
              "Q 1600 3394 1931 3394 \n",
              "Q 2300 3394 2536 3241 \n",
              "Q 2772 3088 2869 2813 \n",
              "Q 3263 3394 3894 3394 \n",
              "Q 4388 3394 4653 3120 \n",
              "Q 4919 2847 4919 2278 \n",
              "L 4919 0 \n",
              "L 4359 0 \n",
              "L 4359 2091 \n",
              "Q 4359 2428 4304 2576 \n",
              "Q 4250 2725 4106 2815 \n",
              "Q 3963 2906 3769 2906 \n",
              "Q 3419 2906 3187 2673 \n",
              "Q 2956 2441 2956 1928 \n",
              "L 2956 0 \n",
              "L 2394 0 \n",
              "L 2394 2156 \n",
              "Q 2394 2531 2256 2718 \n",
              "Q 2119 2906 1806 2906 \n",
              "Q 1569 2906 1367 2781 \n",
              "Q 1166 2656 1075 2415 \n",
              "Q 984 2175 984 1722 \n",
              "L 984 0 \n",
              "L 422 0 \n",
              "z\n",
              "\" transform=\"scale(0.015625)\"/>\n",
              "       <path id=\"ArialMT-29\" d=\"M 791 -1347 \n",
              "L 388 -1347 \n",
              "Q 1322 153 1322 1656 \n",
              "Q 1322 2244 1188 2822 \n",
              "Q 1081 3291 891 3722 \n",
              "Q 769 4003 388 4659 \n",
              "L 791 4659 \n",
              "Q 1378 3875 1659 3084 \n",
              "Q 1900 2403 1900 1659 \n",
              "Q 1900 816 1576 28 \n",
              "Q 1253 -759 791 -1347 \n",
              "z\n",
              "\" transform=\"scale(0.015625)\"/>\n",
              "      </defs>\n",
              "      <use xlink:href=\"#ArialMT-44\"/>\n",
              "      <use xlink:href=\"#ArialMT-69\" x=\"72.216797\"/>\n",
              "      <use xlink:href=\"#ArialMT-73\" x=\"94.433594\"/>\n",
              "      <use xlink:href=\"#ArialMT-74\" x=\"144.433594\"/>\n",
              "      <use xlink:href=\"#ArialMT-61\" x=\"172.216797\"/>\n",
              "      <use xlink:href=\"#ArialMT-6e\" x=\"227.832031\"/>\n",
              "      <use xlink:href=\"#ArialMT-63\" x=\"283.447266\"/>\n",
              "      <use xlink:href=\"#ArialMT-65\" x=\"333.447266\"/>\n",
              "      <use xlink:href=\"#ArialMT-20\" x=\"389.0625\"/>\n",
              "      <use xlink:href=\"#ArialMT-28\" x=\"416.845703\"/>\n",
              "      <use xlink:href=\"#ArialMT-6d\" x=\"450.146484\"/>\n",
              "      <use xlink:href=\"#ArialMT-29\" x=\"533.447266\"/>\n",
              "     </g>\n",
              "    </g>\n",
              "   </g>\n",
              "   <g id=\"matplotlib.axis_2\">\n",
              "    <g id=\"ytick_1\">\n",
              "     <g id=\"line2d_17\">\n",
              "      <path d=\"M 38.542375 274.2045 \n",
              "L 395.662375 274.2045 \n",
              "\" clip-path=\"url(#p547fe2f367)\" style=\"fill: none; stroke: #cccccc; stroke-width: 0.8; stroke-linecap: round\"/>\n",
              "     </g>\n",
              "     <g id=\"line2d_18\">\n",
              "      <defs>\n",
              "       <path id=\"mea4cb69864\" d=\"M 0 0 \n",
              "L -4.8 0 \n",
              "\" style=\"stroke: #262626\"/>\n",
              "      </defs>\n",
              "      <g>\n",
              "       <use xlink:href=\"#mea4cb69864\" x=\"38.542375\" y=\"274.2045\" style=\"fill: #262626; stroke: #262626\"/>\n",
              "      </g>\n",
              "     </g>\n",
              "     <g id=\"text_10\">\n",
              "      <!-- −2 -->\n",
              "      <g style=\"fill: #262626\" transform=\"translate(20.209 277.353937) scale(0.088 -0.088)\">\n",
              "       <defs>\n",
              "        <path id=\"ArialMT-2212\" d=\"M 3381 1997 \n",
              "L 356 1997 \n",
              "L 356 2522 \n",
              "L 3381 2522 \n",
              "L 3381 1997 \n",
              "z\n",
              "\" transform=\"scale(0.015625)\"/>\n",
              "       </defs>\n",
              "       <use xlink:href=\"#ArialMT-2212\"/>\n",
              "       <use xlink:href=\"#ArialMT-32\" x=\"58.398438\"/>\n",
              "      </g>\n",
              "     </g>\n",
              "    </g>\n",
              "    <g id=\"ytick_2\">\n",
              "     <g id=\"line2d_19\">\n",
              "      <path d=\"M 38.542375 225.8205 \n",
              "L 395.662375 225.8205 \n",
              "\" clip-path=\"url(#p547fe2f367)\" style=\"fill: none; stroke: #cccccc; stroke-width: 0.8; stroke-linecap: round\"/>\n",
              "     </g>\n",
              "     <g id=\"line2d_20\">\n",
              "      <g>\n",
              "       <use xlink:href=\"#mea4cb69864\" x=\"38.542375\" y=\"225.8205\" style=\"fill: #262626; stroke: #262626\"/>\n",
              "      </g>\n",
              "     </g>\n",
              "     <g id=\"text_11\">\n",
              "      <!-- 0 -->\n",
              "      <g style=\"fill: #262626\" transform=\"translate(25.34875 228.969937) scale(0.088 -0.088)\">\n",
              "       <use xlink:href=\"#ArialMT-30\"/>\n",
              "      </g>\n",
              "     </g>\n",
              "    </g>\n",
              "    <g id=\"ytick_3\">\n",
              "     <g id=\"line2d_21\">\n",
              "      <path d=\"M 38.542375 177.4365 \n",
              "L 395.662375 177.4365 \n",
              "\" clip-path=\"url(#p547fe2f367)\" style=\"fill: none; stroke: #cccccc; stroke-width: 0.8; stroke-linecap: round\"/>\n",
              "     </g>\n",
              "     <g id=\"line2d_22\">\n",
              "      <g>\n",
              "       <use xlink:href=\"#mea4cb69864\" x=\"38.542375\" y=\"177.4365\" style=\"fill: #262626; stroke: #262626\"/>\n",
              "      </g>\n",
              "     </g>\n",
              "     <g id=\"text_12\">\n",
              "      <!-- 2 -->\n",
              "      <g style=\"fill: #262626\" transform=\"translate(25.34875 180.585937) scale(0.088 -0.088)\">\n",
              "       <use xlink:href=\"#ArialMT-32\"/>\n",
              "      </g>\n",
              "     </g>\n",
              "    </g>\n",
              "    <g id=\"ytick_4\">\n",
              "     <g id=\"line2d_23\">\n",
              "      <path d=\"M 38.542375 129.0525 \n",
              "L 395.662375 129.0525 \n",
              "\" clip-path=\"url(#p547fe2f367)\" style=\"fill: none; stroke: #cccccc; stroke-width: 0.8; stroke-linecap: round\"/>\n",
              "     </g>\n",
              "     <g id=\"line2d_24\">\n",
              "      <g>\n",
              "       <use xlink:href=\"#mea4cb69864\" x=\"38.542375\" y=\"129.0525\" style=\"fill: #262626; stroke: #262626\"/>\n",
              "      </g>\n",
              "     </g>\n",
              "     <g id=\"text_13\">\n",
              "      <!-- 4 -->\n",
              "      <g style=\"fill: #262626\" transform=\"translate(25.34875 132.201937) scale(0.088 -0.088)\">\n",
              "       <use xlink:href=\"#ArialMT-34\"/>\n",
              "      </g>\n",
              "     </g>\n",
              "    </g>\n",
              "    <g id=\"ytick_5\">\n",
              "     <g id=\"line2d_25\">\n",
              "      <path d=\"M 38.542375 80.6685 \n",
              "L 395.662375 80.6685 \n",
              "\" clip-path=\"url(#p547fe2f367)\" style=\"fill: none; stroke: #cccccc; stroke-width: 0.8; stroke-linecap: round\"/>\n",
              "     </g>\n",
              "     <g id=\"line2d_26\">\n",
              "      <g>\n",
              "       <use xlink:href=\"#mea4cb69864\" x=\"38.542375\" y=\"80.6685\" style=\"fill: #262626; stroke: #262626\"/>\n",
              "      </g>\n",
              "     </g>\n",
              "     <g id=\"text_14\">\n",
              "      <!-- 6 -->\n",
              "      <g style=\"fill: #262626\" transform=\"translate(25.34875 83.817937) scale(0.088 -0.088)\">\n",
              "       <use xlink:href=\"#ArialMT-36\"/>\n",
              "      </g>\n",
              "     </g>\n",
              "    </g>\n",
              "    <g id=\"ytick_6\">\n",
              "     <g id=\"line2d_27\">\n",
              "      <path d=\"M 38.542375 32.2845 \n",
              "L 395.662375 32.2845 \n",
              "\" clip-path=\"url(#p547fe2f367)\" style=\"fill: none; stroke: #cccccc; stroke-width: 0.8; stroke-linecap: round\"/>\n",
              "     </g>\n",
              "     <g id=\"line2d_28\">\n",
              "      <g>\n",
              "       <use xlink:href=\"#mea4cb69864\" x=\"38.542375\" y=\"32.2845\" style=\"fill: #262626; stroke: #262626\"/>\n",
              "      </g>\n",
              "     </g>\n",
              "     <g id=\"text_15\">\n",
              "      <!-- 8 -->\n",
              "      <g style=\"fill: #262626\" transform=\"translate(25.34875 35.433937) scale(0.088 -0.088)\">\n",
              "       <use xlink:href=\"#ArialMT-38\"/>\n",
              "      </g>\n",
              "     </g>\n",
              "    </g>\n",
              "    <g id=\"text_16\">\n",
              "     <!-- Shear Force (kN) -->\n",
              "     <g style=\"fill: #262626\" transform=\"translate(14.1885 190.05075) rotate(-90) scale(0.096 -0.096)\">\n",
              "      <defs>\n",
              "       <path id=\"ArialMT-53\" d=\"M 288 1472 \n",
              "L 859 1522 \n",
              "Q 900 1178 1048 958 \n",
              "Q 1197 738 1509 602 \n",
              "Q 1822 466 2213 466 \n",
              "Q 2559 466 2825 569 \n",
              "Q 3091 672 3220 851 \n",
              "Q 3350 1031 3350 1244 \n",
              "Q 3350 1459 3225 1620 \n",
              "Q 3100 1781 2813 1891 \n",
              "Q 2628 1963 1997 2114 \n",
              "Q 1366 2266 1113 2400 \n",
              "Q 784 2572 623 2826 \n",
              "Q 463 3081 463 3397 \n",
              "Q 463 3744 659 4045 \n",
              "Q 856 4347 1234 4503 \n",
              "Q 1613 4659 2075 4659 \n",
              "Q 2584 4659 2973 4495 \n",
              "Q 3363 4331 3572 4012 \n",
              "Q 3781 3694 3797 3291 \n",
              "L 3216 3247 \n",
              "Q 3169 3681 2898 3903 \n",
              "Q 2628 4125 2100 4125 \n",
              "Q 1550 4125 1298 3923 \n",
              "Q 1047 3722 1047 3438 \n",
              "Q 1047 3191 1225 3031 \n",
              "Q 1400 2872 2139 2705 \n",
              "Q 2878 2538 3153 2413 \n",
              "Q 3553 2228 3743 1945 \n",
              "Q 3934 1663 3934 1294 \n",
              "Q 3934 928 3725 604 \n",
              "Q 3516 281 3123 101 \n",
              "Q 2731 -78 2241 -78 \n",
              "Q 1619 -78 1198 103 \n",
              "Q 778 284 539 648 \n",
              "Q 300 1013 288 1472 \n",
              "z\n",
              "\" transform=\"scale(0.015625)\"/>\n",
              "       <path id=\"ArialMT-68\" d=\"M 422 0 \n",
              "L 422 4581 \n",
              "L 984 4581 \n",
              "L 984 2938 \n",
              "Q 1378 3394 1978 3394 \n",
              "Q 2347 3394 2619 3248 \n",
              "Q 2891 3103 3008 2847 \n",
              "Q 3125 2591 3125 2103 \n",
              "L 3125 0 \n",
              "L 2563 0 \n",
              "L 2563 2103 \n",
              "Q 2563 2525 2380 2717 \n",
              "Q 2197 2909 1863 2909 \n",
              "Q 1613 2909 1392 2779 \n",
              "Q 1172 2650 1078 2428 \n",
              "Q 984 2206 984 1816 \n",
              "L 984 0 \n",
              "L 422 0 \n",
              "z\n",
              "\" transform=\"scale(0.015625)\"/>\n",
              "       <path id=\"ArialMT-72\" d=\"M 416 0 \n",
              "L 416 3319 \n",
              "L 922 3319 \n",
              "L 922 2816 \n",
              "Q 1116 3169 1280 3281 \n",
              "Q 1444 3394 1641 3394 \n",
              "Q 1925 3394 2219 3213 \n",
              "L 2025 2691 \n",
              "Q 1819 2813 1613 2813 \n",
              "Q 1428 2813 1281 2702 \n",
              "Q 1134 2591 1072 2394 \n",
              "Q 978 2094 978 1738 \n",
              "L 978 0 \n",
              "L 416 0 \n",
              "z\n",
              "\" transform=\"scale(0.015625)\"/>\n",
              "       <path id=\"ArialMT-46\" d=\"M 525 0 \n",
              "L 525 4581 \n",
              "L 3616 4581 \n",
              "L 3616 4041 \n",
              "L 1131 4041 \n",
              "L 1131 2622 \n",
              "L 3281 2622 \n",
              "L 3281 2081 \n",
              "L 1131 2081 \n",
              "L 1131 0 \n",
              "L 525 0 \n",
              "z\n",
              "\" transform=\"scale(0.015625)\"/>\n",
              "       <path id=\"ArialMT-6f\" d=\"M 213 1659 \n",
              "Q 213 2581 725 3025 \n",
              "Q 1153 3394 1769 3394 \n",
              "Q 2453 3394 2887 2945 \n",
              "Q 3322 2497 3322 1706 \n",
              "Q 3322 1066 3130 698 \n",
              "Q 2938 331 2570 128 \n",
              "Q 2203 -75 1769 -75 \n",
              "Q 1072 -75 642 372 \n",
              "Q 213 819 213 1659 \n",
              "z\n",
              "M 791 1659 \n",
              "Q 791 1022 1069 705 \n",
              "Q 1347 388 1769 388 \n",
              "Q 2188 388 2466 706 \n",
              "Q 2744 1025 2744 1678 \n",
              "Q 2744 2294 2464 2611 \n",
              "Q 2184 2928 1769 2928 \n",
              "Q 1347 2928 1069 2612 \n",
              "Q 791 2297 791 1659 \n",
              "z\n",
              "\" transform=\"scale(0.015625)\"/>\n",
              "       <path id=\"ArialMT-6b\" d=\"M 425 0 \n",
              "L 425 4581 \n",
              "L 988 4581 \n",
              "L 988 1969 \n",
              "L 2319 3319 \n",
              "L 3047 3319 \n",
              "L 1778 2088 \n",
              "L 3175 0 \n",
              "L 2481 0 \n",
              "L 1384 1697 \n",
              "L 988 1316 \n",
              "L 988 0 \n",
              "L 425 0 \n",
              "z\n",
              "\" transform=\"scale(0.015625)\"/>\n",
              "       <path id=\"ArialMT-4e\" d=\"M 488 0 \n",
              "L 488 4581 \n",
              "L 1109 4581 \n",
              "L 3516 984 \n",
              "L 3516 4581 \n",
              "L 4097 4581 \n",
              "L 4097 0 \n",
              "L 3475 0 \n",
              "L 1069 3600 \n",
              "L 1069 0 \n",
              "L 488 0 \n",
              "z\n",
              "\" transform=\"scale(0.015625)\"/>\n",
              "      </defs>\n",
              "      <use xlink:href=\"#ArialMT-53\"/>\n",
              "      <use xlink:href=\"#ArialMT-68\" x=\"66.699219\"/>\n",
              "      <use xlink:href=\"#ArialMT-65\" x=\"122.314453\"/>\n",
              "      <use xlink:href=\"#ArialMT-61\" x=\"177.929688\"/>\n",
              "      <use xlink:href=\"#ArialMT-72\" x=\"233.544922\"/>\n",
              "      <use xlink:href=\"#ArialMT-20\" x=\"266.845703\"/>\n",
              "      <use xlink:href=\"#ArialMT-46\" x=\"294.628906\"/>\n",
              "      <use xlink:href=\"#ArialMT-6f\" x=\"355.712891\"/>\n",
              "      <use xlink:href=\"#ArialMT-72\" x=\"411.328125\"/>\n",
              "      <use xlink:href=\"#ArialMT-63\" x=\"444.628906\"/>\n",
              "      <use xlink:href=\"#ArialMT-65\" x=\"494.628906\"/>\n",
              "      <use xlink:href=\"#ArialMT-20\" x=\"550.244141\"/>\n",
              "      <use xlink:href=\"#ArialMT-28\" x=\"578.027344\"/>\n",
              "      <use xlink:href=\"#ArialMT-6b\" x=\"611.328125\"/>\n",
              "      <use xlink:href=\"#ArialMT-4e\" x=\"661.328125\"/>\n",
              "      <use xlink:href=\"#ArialMT-29\" x=\"733.544922\"/>\n",
              "     </g>\n",
              "    </g>\n",
              "   </g>\n",
              "   <g id=\"PolyCollection_1\">\n",
              "    <defs>\n",
              "     <path id=\"mf63be8ede6\" d=\"M 54.775102 -97.036875 \n",
              "L 54.775102 -290.572875 \n",
              "L 58.054441 -290.572875 \n",
              "L 61.33378 -290.572875 \n",
              "L 64.613119 -290.572875 \n",
              "L 67.892458 -290.572875 \n",
              "L 71.171796 -290.572875 \n",
              "L 74.451135 -290.572875 \n",
              "L 77.730474 -290.572875 \n",
              "L 81.009813 -290.572875 \n",
              "L 84.289152 -290.572875 \n",
              "L 87.568491 -290.572875 \n",
              "L 90.84783 -290.572875 \n",
              "L 94.127168 -290.572875 \n",
              "L 97.406507 -290.572875 \n",
              "L 100.685846 -290.572875 \n",
              "L 103.965185 -290.572875 \n",
              "L 107.244524 -290.572875 \n",
              "L 110.523863 -290.572875 \n",
              "L 113.803201 -290.572875 \n",
              "L 117.08254 -290.572875 \n",
              "L 120.361879 -290.572875 \n",
              "L 123.641218 -290.572875 \n",
              "L 126.920557 -290.572875 \n",
              "L 130.199896 -290.572875 \n",
              "L 133.479235 -290.572875 \n",
              "L 136.758573 -290.572875 \n",
              "L 140.037912 -290.572875 \n",
              "L 143.317251 -290.572875 \n",
              "L 146.59659 -290.572875 \n",
              "L 149.875929 -290.572875 \n",
              "L 153.155268 -290.572875 \n",
              "L 156.434606 -290.572875 \n",
              "L 159.713945 -290.572875 \n",
              "L 162.993284 -290.572875 \n",
              "L 166.272623 -290.572875 \n",
              "L 169.551962 -290.572875 \n",
              "L 172.831301 -290.572875 \n",
              "L 176.110639 -290.572875 \n",
              "L 179.389978 -290.572875 \n",
              "L 182.669317 -290.572875 \n",
              "L 185.948656 -48.652875 \n",
              "L 189.227995 -48.652875 \n",
              "L 192.507334 -48.652875 \n",
              "L 195.786673 -48.652875 \n",
              "L 199.066011 -48.652875 \n",
              "L 202.34535 -48.652875 \n",
              "L 205.624689 -48.652875 \n",
              "L 208.904028 -48.652875 \n",
              "L 212.183367 -48.652875 \n",
              "L 215.462706 -48.652875 \n",
              "L 218.742044 -48.652875 \n",
              "L 222.021383 -48.652875 \n",
              "L 225.300722 -48.652875 \n",
              "L 228.580061 -48.652875 \n",
              "L 231.8594 -48.652875 \n",
              "L 235.138739 -48.652875 \n",
              "L 238.418077 -48.652875 \n",
              "L 241.697416 -48.652875 \n",
              "L 244.976755 -48.652875 \n",
              "L 248.256094 -48.652875 \n",
              "L 251.535433 -48.652875 \n",
              "L 254.814772 -48.652875 \n",
              "L 258.094111 -48.652875 \n",
              "L 261.373449 -48.652875 \n",
              "L 264.652788 -48.652875 \n",
              "L 267.932127 -48.652875 \n",
              "L 271.211466 -48.652875 \n",
              "L 274.490805 -48.652875 \n",
              "L 277.770144 -48.652875 \n",
              "L 281.049482 -48.652875 \n",
              "L 284.328821 -48.652875 \n",
              "L 287.60816 -48.652875 \n",
              "L 290.887499 -48.652875 \n",
              "L 294.166838 -48.652875 \n",
              "L 297.446177 -48.652875 \n",
              "L 300.725515 -48.652875 \n",
              "L 304.004854 -48.652875 \n",
              "L 307.284193 -48.652875 \n",
              "L 310.563532 -48.652875 \n",
              "L 313.842871 -48.652875 \n",
              "L 317.12221 -48.652875 \n",
              "L 320.401549 -48.652875 \n",
              "L 323.680887 -48.652875 \n",
              "L 326.960226 -48.652875 \n",
              "L 330.239565 -48.652875 \n",
              "L 333.518904 -48.652875 \n",
              "L 336.798243 -48.652875 \n",
              "L 340.077582 -48.652875 \n",
              "L 343.35692 -48.652875 \n",
              "L 346.636259 -48.652875 \n",
              "L 349.915598 -48.652875 \n",
              "L 353.194937 -48.652875 \n",
              "L 356.474276 -48.652875 \n",
              "L 359.753615 -48.652875 \n",
              "L 363.032954 -48.652875 \n",
              "L 366.312292 -48.652875 \n",
              "L 369.591631 -48.652875 \n",
              "L 372.87097 -48.652875 \n",
              "L 376.150309 -48.652875 \n",
              "L 379.429648 -48.652875 \n",
              "L 379.429648 -97.036875 \n",
              "L 379.429648 -97.036875 \n",
              "L 376.150309 -97.036875 \n",
              "L 372.87097 -97.036875 \n",
              "L 369.591631 -97.036875 \n",
              "L 366.312292 -97.036875 \n",
              "L 363.032954 -97.036875 \n",
              "L 359.753615 -97.036875 \n",
              "L 356.474276 -97.036875 \n",
              "L 353.194937 -97.036875 \n",
              "L 349.915598 -97.036875 \n",
              "L 346.636259 -97.036875 \n",
              "L 343.35692 -97.036875 \n",
              "L 340.077582 -97.036875 \n",
              "L 336.798243 -97.036875 \n",
              "L 333.518904 -97.036875 \n",
              "L 330.239565 -97.036875 \n",
              "L 326.960226 -97.036875 \n",
              "L 323.680887 -97.036875 \n",
              "L 320.401549 -97.036875 \n",
              "L 317.12221 -97.036875 \n",
              "L 313.842871 -97.036875 \n",
              "L 310.563532 -97.036875 \n",
              "L 307.284193 -97.036875 \n",
              "L 304.004854 -97.036875 \n",
              "L 300.725515 -97.036875 \n",
              "L 297.446177 -97.036875 \n",
              "L 294.166838 -97.036875 \n",
              "L 290.887499 -97.036875 \n",
              "L 287.60816 -97.036875 \n",
              "L 284.328821 -97.036875 \n",
              "L 281.049482 -97.036875 \n",
              "L 277.770144 -97.036875 \n",
              "L 274.490805 -97.036875 \n",
              "L 271.211466 -97.036875 \n",
              "L 267.932127 -97.036875 \n",
              "L 264.652788 -97.036875 \n",
              "L 261.373449 -97.036875 \n",
              "L 258.094111 -97.036875 \n",
              "L 254.814772 -97.036875 \n",
              "L 251.535433 -97.036875 \n",
              "L 248.256094 -97.036875 \n",
              "L 244.976755 -97.036875 \n",
              "L 241.697416 -97.036875 \n",
              "L 238.418077 -97.036875 \n",
              "L 235.138739 -97.036875 \n",
              "L 231.8594 -97.036875 \n",
              "L 228.580061 -97.036875 \n",
              "L 225.300722 -97.036875 \n",
              "L 222.021383 -97.036875 \n",
              "L 218.742044 -97.036875 \n",
              "L 215.462706 -97.036875 \n",
              "L 212.183367 -97.036875 \n",
              "L 208.904028 -97.036875 \n",
              "L 205.624689 -97.036875 \n",
              "L 202.34535 -97.036875 \n",
              "L 199.066011 -97.036875 \n",
              "L 195.786673 -97.036875 \n",
              "L 192.507334 -97.036875 \n",
              "L 189.227995 -97.036875 \n",
              "L 185.948656 -97.036875 \n",
              "L 182.669317 -97.036875 \n",
              "L 179.389978 -97.036875 \n",
              "L 176.110639 -97.036875 \n",
              "L 172.831301 -97.036875 \n",
              "L 169.551962 -97.036875 \n",
              "L 166.272623 -97.036875 \n",
              "L 162.993284 -97.036875 \n",
              "L 159.713945 -97.036875 \n",
              "L 156.434606 -97.036875 \n",
              "L 153.155268 -97.036875 \n",
              "L 149.875929 -97.036875 \n",
              "L 146.59659 -97.036875 \n",
              "L 143.317251 -97.036875 \n",
              "L 140.037912 -97.036875 \n",
              "L 136.758573 -97.036875 \n",
              "L 133.479235 -97.036875 \n",
              "L 130.199896 -97.036875 \n",
              "L 126.920557 -97.036875 \n",
              "L 123.641218 -97.036875 \n",
              "L 120.361879 -97.036875 \n",
              "L 117.08254 -97.036875 \n",
              "L 113.803201 -97.036875 \n",
              "L 110.523863 -97.036875 \n",
              "L 107.244524 -97.036875 \n",
              "L 103.965185 -97.036875 \n",
              "L 100.685846 -97.036875 \n",
              "L 97.406507 -97.036875 \n",
              "L 94.127168 -97.036875 \n",
              "L 90.84783 -97.036875 \n",
              "L 87.568491 -97.036875 \n",
              "L 84.289152 -97.036875 \n",
              "L 81.009813 -97.036875 \n",
              "L 77.730474 -97.036875 \n",
              "L 74.451135 -97.036875 \n",
              "L 71.171796 -97.036875 \n",
              "L 67.892458 -97.036875 \n",
              "L 64.613119 -97.036875 \n",
              "L 61.33378 -97.036875 \n",
              "L 58.054441 -97.036875 \n",
              "L 54.775102 -97.036875 \n",
              "z\n",
              "\" style=\"stroke: #ffffff; stroke-opacity: 0.3; stroke-width: 0.8\"/>\n",
              "    </defs>\n",
              "    <g clip-path=\"url(#p547fe2f367)\">\n",
              "     <use xlink:href=\"#mf63be8ede6\" x=\"0\" y=\"322.857375\" style=\"fill: #1f77b4; fill-opacity: 0.3; stroke: #ffffff; stroke-opacity: 0.3; stroke-width: 0.8\"/>\n",
              "    </g>\n",
              "   </g>\n",
              "   <g id=\"line2d_29\">\n",
              "    <path d=\"M 54.775102 32.2845 \n",
              "L 58.054441 32.2845 \n",
              "L 61.33378 32.2845 \n",
              "L 64.613119 32.2845 \n",
              "L 67.892458 32.2845 \n",
              "L 71.171796 32.2845 \n",
              "L 74.451135 32.2845 \n",
              "L 77.730474 32.2845 \n",
              "L 81.009813 32.2845 \n",
              "L 84.289152 32.2845 \n",
              "L 87.568491 32.2845 \n",
              "L 90.84783 32.2845 \n",
              "L 94.127168 32.2845 \n",
              "L 97.406507 32.2845 \n",
              "L 100.685846 32.2845 \n",
              "L 103.965185 32.2845 \n",
              "L 107.244524 32.2845 \n",
              "L 110.523863 32.2845 \n",
              "L 113.803201 32.2845 \n",
              "L 117.08254 32.2845 \n",
              "L 120.361879 32.2845 \n",
              "L 123.641218 32.2845 \n",
              "L 126.920557 32.2845 \n",
              "L 130.199896 32.2845 \n",
              "L 133.479235 32.2845 \n",
              "L 136.758573 32.2845 \n",
              "L 140.037912 32.2845 \n",
              "L 143.317251 32.2845 \n",
              "L 146.59659 32.2845 \n",
              "L 149.875929 32.2845 \n",
              "L 153.155268 32.2845 \n",
              "L 156.434606 32.2845 \n",
              "L 159.713945 32.2845 \n",
              "L 162.993284 32.2845 \n",
              "L 166.272623 32.2845 \n",
              "L 169.551962 32.2845 \n",
              "L 172.831301 32.2845 \n",
              "L 176.110639 32.2845 \n",
              "L 179.389978 32.2845 \n",
              "L 182.669317 32.2845 \n",
              "L 185.948656 274.2045 \n",
              "L 189.227995 274.2045 \n",
              "L 192.507334 274.2045 \n",
              "L 195.786673 274.2045 \n",
              "L 199.066011 274.2045 \n",
              "L 202.34535 274.2045 \n",
              "L 205.624689 274.2045 \n",
              "L 208.904028 274.2045 \n",
              "L 212.183367 274.2045 \n",
              "L 215.462706 274.2045 \n",
              "L 218.742044 274.2045 \n",
              "L 222.021383 274.2045 \n",
              "L 225.300722 274.2045 \n",
              "L 228.580061 274.2045 \n",
              "L 231.8594 274.2045 \n",
              "L 235.138739 274.2045 \n",
              "L 238.418077 274.2045 \n",
              "L 241.697416 274.2045 \n",
              "L 244.976755 274.2045 \n",
              "L 248.256094 274.2045 \n",
              "L 251.535433 274.2045 \n",
              "L 254.814772 274.2045 \n",
              "L 258.094111 274.2045 \n",
              "L 261.373449 274.2045 \n",
              "L 264.652788 274.2045 \n",
              "L 267.932127 274.2045 \n",
              "L 271.211466 274.2045 \n",
              "L 274.490805 274.2045 \n",
              "L 277.770144 274.2045 \n",
              "L 281.049482 274.2045 \n",
              "L 284.328821 274.2045 \n",
              "L 287.60816 274.2045 \n",
              "L 290.887499 274.2045 \n",
              "L 294.166838 274.2045 \n",
              "L 297.446177 274.2045 \n",
              "L 300.725515 274.2045 \n",
              "L 304.004854 274.2045 \n",
              "L 307.284193 274.2045 \n",
              "L 310.563532 274.2045 \n",
              "L 313.842871 274.2045 \n",
              "L 317.12221 274.2045 \n",
              "L 320.401549 274.2045 \n",
              "L 323.680887 274.2045 \n",
              "L 326.960226 274.2045 \n",
              "L 330.239565 274.2045 \n",
              "L 333.518904 274.2045 \n",
              "L 336.798243 274.2045 \n",
              "L 340.077582 274.2045 \n",
              "L 343.35692 274.2045 \n",
              "L 346.636259 274.2045 \n",
              "L 349.915598 274.2045 \n",
              "L 353.194937 274.2045 \n",
              "L 356.474276 274.2045 \n",
              "L 359.753615 274.2045 \n",
              "L 363.032954 274.2045 \n",
              "L 366.312292 274.2045 \n",
              "L 369.591631 274.2045 \n",
              "L 372.87097 274.2045 \n",
              "L 376.150309 274.2045 \n",
              "L 379.429648 274.2045 \n",
              "\" clip-path=\"url(#p547fe2f367)\" style=\"fill: none; stroke: #1f77b4; stroke-width: 1.2; stroke-linecap: round\"/>\n",
              "   </g>\n",
              "   <g id=\"patch_3\">\n",
              "    <path d=\"M 38.542375 274.2045 \n",
              "L 38.542375 32.2845 \n",
              "\" style=\"fill: none; stroke: #262626; stroke-linejoin: miter; stroke-linecap: square\"/>\n",
              "   </g>\n",
              "   <g id=\"patch_4\">\n",
              "    <path d=\"M 54.775102 286.3005 \n",
              "L 357.786011 286.3005 \n",
              "\" style=\"fill: none; stroke: #262626; stroke-linejoin: miter; stroke-linecap: square\"/>\n",
              "   </g>\n",
              "   <g id=\"text_17\">\n",
              "    <!-- Shear Force Diagram -->\n",
              "    <g style=\"fill: #262626\" transform=\"translate(171.221875 14.1885) scale(0.096 -0.096)\">\n",
              "     <defs>\n",
              "      <path id=\"ArialMT-67\" d=\"M 319 -275 \n",
              "L 866 -356 \n",
              "Q 900 -609 1056 -725 \n",
              "Q 1266 -881 1628 -881 \n",
              "Q 2019 -881 2231 -725 \n",
              "Q 2444 -569 2519 -288 \n",
              "Q 2563 -116 2559 434 \n",
              "Q 2191 0 1641 0 \n",
              "Q 956 0 581 494 \n",
              "Q 206 988 206 1678 \n",
              "Q 206 2153 378 2554 \n",
              "Q 550 2956 876 3175 \n",
              "Q 1203 3394 1644 3394 \n",
              "Q 2231 3394 2613 2919 \n",
              "L 2613 3319 \n",
              "L 3131 3319 \n",
              "L 3131 450 \n",
              "Q 3131 -325 2973 -648 \n",
              "Q 2816 -972 2473 -1159 \n",
              "Q 2131 -1347 1631 -1347 \n",
              "Q 1038 -1347 672 -1080 \n",
              "Q 306 -813 319 -275 \n",
              "z\n",
              "M 784 1719 \n",
              "Q 784 1066 1043 766 \n",
              "Q 1303 466 1694 466 \n",
              "Q 2081 466 2343 764 \n",
              "Q 2606 1063 2606 1700 \n",
              "Q 2606 2309 2336 2618 \n",
              "Q 2066 2928 1684 2928 \n",
              "Q 1309 2928 1046 2623 \n",
              "Q 784 2319 784 1719 \n",
              "z\n",
              "\" transform=\"scale(0.015625)\"/>\n",
              "     </defs>\n",
              "     <use xlink:href=\"#ArialMT-53\"/>\n",
              "     <use xlink:href=\"#ArialMT-68\" x=\"66.699219\"/>\n",
              "     <use xlink:href=\"#ArialMT-65\" x=\"122.314453\"/>\n",
              "     <use xlink:href=\"#ArialMT-61\" x=\"177.929688\"/>\n",
              "     <use xlink:href=\"#ArialMT-72\" x=\"233.544922\"/>\n",
              "     <use xlink:href=\"#ArialMT-20\" x=\"266.845703\"/>\n",
              "     <use xlink:href=\"#ArialMT-46\" x=\"294.628906\"/>\n",
              "     <use xlink:href=\"#ArialMT-6f\" x=\"355.712891\"/>\n",
              "     <use xlink:href=\"#ArialMT-72\" x=\"411.328125\"/>\n",
              "     <use xlink:href=\"#ArialMT-63\" x=\"444.628906\"/>\n",
              "     <use xlink:href=\"#ArialMT-65\" x=\"494.628906\"/>\n",
              "     <use xlink:href=\"#ArialMT-20\" x=\"550.244141\"/>\n",
              "     <use xlink:href=\"#ArialMT-44\" x=\"578.027344\"/>\n",
              "     <use xlink:href=\"#ArialMT-69\" x=\"650.244141\"/>\n",
              "     <use xlink:href=\"#ArialMT-61\" x=\"672.460938\"/>\n",
              "     <use xlink:href=\"#ArialMT-67\" x=\"728.076172\"/>\n",
              "     <use xlink:href=\"#ArialMT-72\" x=\"783.691406\"/>\n",
              "     <use xlink:href=\"#ArialMT-61\" x=\"816.992188\"/>\n",
              "     <use xlink:href=\"#ArialMT-6d\" x=\"872.607422\"/>\n",
              "    </g>\n",
              "   </g>\n",
              "  </g>\n",
              " </g>\n",
              " <defs>\n",
              "  <clipPath id=\"p547fe2f367\">\n",
              "   <rect x=\"38.542375\" y=\"20.1885\" width=\"357.12\" height=\"266.112\"/>\n",
              "  </clipPath>\n",
              " </defs>\n",
              "</svg>\n"
            ],
            "text/plain": [
              "<Figure size 640x480 with 1 Axes>"
            ]
          },
          "metadata": {},
          "output_type": "display_data"
        }
      ],
      "source": [
        "# Create a figure and axis\n",
        "fig, ax = plt.subplots()\n",
        "# Plot the shear force diagram\n",
        "ax.plot(x, shear)\n",
        "# Shades between the x-axis and our shear force curve\n",
        "ax.fill_between(x, shear, 0, alpha=0.3)\n",
        "ax.set_xlabel('Distance (m)')\n",
        "ax.set_ylabel('Shear Force (kN)')\n",
        "ax.set_title('Shear Force Diagram')\n",
        "ax.grid(True)\n",
        "sns.despine(trim=True)\n",
        "plt.show()"
      ]
    },
    {
      "cell_type": "markdown",
      "metadata": {
        "id": "C4Tcn63XG12f"
      },
      "source": [
        "I want you to make the plot for the bending moment diagram. Be careful with the applied moment at point C."
      ]
    },
    {
      "cell_type": "code",
      "execution_count": null,
      "metadata": {
        "id": "EUaFB119G12f"
      },
      "outputs": [],
      "source": [
        "# YOUR CODE HERE"
      ]
    }
  ],
  "metadata": {
    "kernelspec": {
      "display_name": "Python 3",
      "language": "python",
      "name": "python3"
    },
    "language_info": {
      "codemirror_mode": {
        "name": "ipython",
        "version": 3
      },
      "file_extension": ".py",
      "mimetype": "text/x-python",
      "name": "python",
      "nbconvert_exporter": "python",
      "pygments_lexer": "ipython3",
      "version": "3.11.4"
    },
    "colab": {
      "provenance": []
    }
  },
  "nbformat": 4,
  "nbformat_minor": 0
}